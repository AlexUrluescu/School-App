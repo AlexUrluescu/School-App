{
 "cells": [
  {
   "cell_type": "markdown",
   "metadata": {},
   "source": [
    "## Import libraries to get the env variables"
   ]
  },
  {
   "cell_type": "code",
   "execution_count": 8,
   "metadata": {},
   "outputs": [],
   "source": [
    "import os\n",
    "from dotenv import load_dotenv"
   ]
  },
  {
   "cell_type": "code",
   "execution_count": 9,
   "metadata": {},
   "outputs": [],
   "source": [
    "load_dotenv()\n",
    "\n",
    "OPENAI_API_TYPE = \"azure\"\n",
    "OPENAI_API_VERSION = os.environ.get(\"OPENAI_API_VERSION\")\n",
    "OPENAI_API_KEY = os.environ.get(\"OPENAI_API_KEY\")\n",
    "OPENAI_API_BASE = os.environ.get(\"OPENAI_API_BASE\")\n",
    "OPENAI_API_VERSION = \"2023-03-15-preview\""
   ]
  },
  {
   "cell_type": "markdown",
   "metadata": {},
   "source": [
    "## Import the libraries to get the documents from txt file"
   ]
  },
  {
   "cell_type": "code",
   "execution_count": 10,
   "metadata": {},
   "outputs": [],
   "source": [
    "from langchain.embeddings.sentence_transformer import SentenceTransformerEmbeddings\n",
    "from langchain.text_splitter import CharacterTextSplitter\n",
    "from langchain.document_loaders import TextLoader"
   ]
  },
  {
   "cell_type": "markdown",
   "metadata": {},
   "source": [
    "## Get the documents from txt file"
   ]
  },
  {
   "cell_type": "code",
   "execution_count": 11,
   "metadata": {},
   "outputs": [
    {
     "data": {
      "text/plain": [
       "[Document(page_content='The Volvo S90: Where Elegance Meets Innovation, The Volvo S90, a flagship luxury sedan from the Swedish automaker, is a testament to the brand\\'s commitment to safety, performance, and Scandinavian design principles. Introduced in 2016, the S90 immediately made a strong impression in the luxury sedan segment and has continued to evolve with each subsequent model year. Design and Aesthetics: At first glance, the Volvo S90 captivates with its sleek and understated design. Clean lines, a bold grille adorned with the iconic Volvo emblem, and distinctive Thor\\'s Hammer LED headlights create an unmistakable presence on the road. The exterior design is a fusion of timeless elegance and modern sophistication, setting it apart from more ostentatious luxury cars. Step inside, and you\\'re greeted with an interior that embodies Scandinavian luxury. Premium materials such as Nappa leather, real wood trim, and brushed metal accents adorn the cabin. The minimalist design philosophy of Volvo is evident in the uncluttered dashboard and the vertically oriented touchscreen infotainment system, which has become a hallmark of Volvo\\'s interior design. The spaciousness of the cabin ensures that both front and rear passengers enjoy a comfortable and luxurious ride. Safety Innovations: Volvo has long been synonymous with safety, and the S90 is no exception. It\\'s equipped with a comprehensive suite of safety features, including adaptive cruise control, blind-spot monitoring, lane-keeping assist, and automated emergency braking. The Pilot Assist system, a semi-autonomous driving feature, adds an extra layer of safety and convenience during highway driving. One of the most noteworthy safety innovations in the S90 is the City Safety system. This advanced technology can detect pedestrians, cyclists, and large animals in the vehicle\\'s path and automatically apply the brakes if a collision is imminent. It\\'s a testament to Volvo\\'s commitment to not only protecting occupants but also vulnerable road users. Performance and Efficiency: The S90 offers a range of powertrains to suit different driving preferences. The T5 and T6 models feature turbocharged and supercharged four-cylinder engines, respectively. These engines provide a blend of power and efficiency, with the T6 delivering brisk acceleration. For those seeking even more power, the T8 hybrid variant combines the supercharged and turbocharged engine with an electric motor, producing impressive horsepower while maintaining excellent fuel efficiency. The ride quality of the S90 is refined and comfortable, absorbing road imperfections with ease. Precise steering and a well-tuned chassis contribute to a composed and enjoyable driving experience. Selectable drive modes allow drivers to tailor the car\\'s performance characteristics to their liking, from a relaxed and fuel-efficient \"Comfort\" mode to a more dynamic \"Dynamic\" mode that sharpens throttle response and tightens suspension settings. Technological Advancements: Volvo\\'s commitment to innovation extends to the S90\\'s technology features. The Sensus infotainment system, displayed on a large touchscreen, serves as the central hub for navigation, entertainment, and vehicle settings. It\\'s intuitive and responsive, making it easy to access various functions. Apple CarPlay and Android Auto compatibility further enhance connectivity. In the realm of audio, the available Bowers & Wilkins premium sound system delivers a concert-like listening experience. Its crystal-clear sound quality and immersive surround-sound capabilities make it a must-have option for audiophiles. Conclusion: The Volvo S90 represents the perfect blend of luxury, safety, and performance. Its striking design, advanced safety features, and innovative technology make it a compelling choice in the competitive luxury sedan market. Whether you\\'re looking for a comfortable and stylish daily driver or a long-distance cruiser with cutting-edge safety, the Volvo S90 offers a compelling package that appeals to a wide range of discerning drivers. It\\'s a testament to Volvo\\'s vision of creating vehicles that prioritize the well-being of both passengers and the world we inhabit.', metadata={'source': 'text.txt'})]"
      ]
     },
     "execution_count": 11,
     "metadata": {},
     "output_type": "execute_result"
    }
   ],
   "source": [
    "loader = TextLoader(\"text.txt\")\n",
    "documents = loader.load()\n",
    "\n",
    "# split it into chunks\n",
    "text_splitter = CharacterTextSplitter(chunk_size=1000, chunk_overlap=0)\n",
    "docs = text_splitter.split_documents(documents)\n",
    "\n",
    "docs"
   ]
  },
  {
   "cell_type": "markdown",
   "metadata": {},
   "source": [
    "## Import libraries for embeddings and store"
   ]
  },
  {
   "cell_type": "code",
   "execution_count": 12,
   "metadata": {},
   "outputs": [],
   "source": [
    "from langchain.vectorstores.chroma import Chroma\n",
    "from langchain.embeddings import OpenAIEmbeddings\n",
    "from langchain.embeddings.sentence_transformer import SentenceTransformerEmbeddings"
   ]
  },
  {
   "cell_type": "code",
   "execution_count": 13,
   "metadata": {},
   "outputs": [],
   "source": [
    "embedding = OpenAIEmbeddings()\n",
    "\n",
    "embedding_function = SentenceTransformerEmbeddings(model_name=\"all-MiniLM-L6-v2\")\n",
    "query = \"From what country is Volvo?\""
   ]
  },
  {
   "cell_type": "code",
   "execution_count": 16,
   "metadata": {},
   "outputs": [],
   "source": [
    "db2 = Chroma.from_documents(docs, embedding_function, persist_directory=\"databse\")\n",
    "docs = db2.similarity_search(query)"
   ]
  },
  {
   "cell_type": "code",
   "execution_count": 17,
   "metadata": {},
   "outputs": [
    {
     "data": {
      "text/plain": [
       "[Document(page_content='The Volvo S90: Where Elegance Meets Innovation, The Volvo S90, a flagship luxury sedan from the Swedish automaker, is a testament to the brand\\'s commitment to safety, performance, and Scandinavian design principles. Introduced in 2016, the S90 immediately made a strong impression in the luxury sedan segment and has continued to evolve with each subsequent model year. Design and Aesthetics: At first glance, the Volvo S90 captivates with its sleek and understated design. Clean lines, a bold grille adorned with the iconic Volvo emblem, and distinctive Thor\\'s Hammer LED headlights create an unmistakable presence on the road. The exterior design is a fusion of timeless elegance and modern sophistication, setting it apart from more ostentatious luxury cars. Step inside, and you\\'re greeted with an interior that embodies Scandinavian luxury. Premium materials such as Nappa leather, real wood trim, and brushed metal accents adorn the cabin. The minimalist design philosophy of Volvo is evident in the uncluttered dashboard and the vertically oriented touchscreen infotainment system, which has become a hallmark of Volvo\\'s interior design. The spaciousness of the cabin ensures that both front and rear passengers enjoy a comfortable and luxurious ride. Safety Innovations: Volvo has long been synonymous with safety, and the S90 is no exception. It\\'s equipped with a comprehensive suite of safety features, including adaptive cruise control, blind-spot monitoring, lane-keeping assist, and automated emergency braking. The Pilot Assist system, a semi-autonomous driving feature, adds an extra layer of safety and convenience during highway driving. One of the most noteworthy safety innovations in the S90 is the City Safety system. This advanced technology can detect pedestrians, cyclists, and large animals in the vehicle\\'s path and automatically apply the brakes if a collision is imminent. It\\'s a testament to Volvo\\'s commitment to not only protecting occupants but also vulnerable road users. Performance and Efficiency: The S90 offers a range of powertrains to suit different driving preferences. The T5 and T6 models feature turbocharged and supercharged four-cylinder engines, respectively. These engines provide a blend of power and efficiency, with the T6 delivering brisk acceleration. For those seeking even more power, the T8 hybrid variant combines the supercharged and turbocharged engine with an electric motor, producing impressive horsepower while maintaining excellent fuel efficiency. The ride quality of the S90 is refined and comfortable, absorbing road imperfections with ease. Precise steering and a well-tuned chassis contribute to a composed and enjoyable driving experience. Selectable drive modes allow drivers to tailor the car\\'s performance characteristics to their liking, from a relaxed and fuel-efficient \"Comfort\" mode to a more dynamic \"Dynamic\" mode that sharpens throttle response and tightens suspension settings. Technological Advancements: Volvo\\'s commitment to innovation extends to the S90\\'s technology features. The Sensus infotainment system, displayed on a large touchscreen, serves as the central hub for navigation, entertainment, and vehicle settings. It\\'s intuitive and responsive, making it easy to access various functions. Apple CarPlay and Android Auto compatibility further enhance connectivity. In the realm of audio, the available Bowers & Wilkins premium sound system delivers a concert-like listening experience. Its crystal-clear sound quality and immersive surround-sound capabilities make it a must-have option for audiophiles. Conclusion: The Volvo S90 represents the perfect blend of luxury, safety, and performance. Its striking design, advanced safety features, and innovative technology make it a compelling choice in the competitive luxury sedan market. Whether you\\'re looking for a comfortable and stylish daily driver or a long-distance cruiser with cutting-edge safety, the Volvo S90 offers a compelling package that appeals to a wide range of discerning drivers. It\\'s a testament to Volvo\\'s vision of creating vehicles that prioritize the well-being of both passengers and the world we inhabit.', metadata={'source': 'text.txt'}),\n",
       " Document(page_content='The Volvo S90: Where Elegance Meets Innovation, The Volvo S90, a flagship luxury sedan from the Swedish automaker, is a testament to the brand\\'s commitment to safety, performance, and Scandinavian design principles. Introduced in 2016, the S90 immediately made a strong impression in the luxury sedan segment and has continued to evolve with each subsequent model year. Design and Aesthetics: At first glance, the Volvo S90 captivates with its sleek and understated design. Clean lines, a bold grille adorned with the iconic Volvo emblem, and distinctive Thor\\'s Hammer LED headlights create an unmistakable presence on the road. The exterior design is a fusion of timeless elegance and modern sophistication, setting it apart from more ostentatious luxury cars. Step inside, and you\\'re greeted with an interior that embodies Scandinavian luxury. Premium materials such as Nappa leather, real wood trim, and brushed metal accents adorn the cabin. The minimalist design philosophy of Volvo is evident in the uncluttered dashboard and the vertically oriented touchscreen infotainment system, which has become a hallmark of Volvo\\'s interior design. The spaciousness of the cabin ensures that both front and rear passengers enjoy a comfortable and luxurious ride. Safety Innovations: Volvo has long been synonymous with safety, and the S90 is no exception. It\\'s equipped with a comprehensive suite of safety features, including adaptive cruise control, blind-spot monitoring, lane-keeping assist, and automated emergency braking. The Pilot Assist system, a semi-autonomous driving feature, adds an extra layer of safety and convenience during highway driving. One of the most noteworthy safety innovations in the S90 is the City Safety system. This advanced technology can detect pedestrians, cyclists, and large animals in the vehicle\\'s path and automatically apply the brakes if a collision is imminent. It\\'s a testament to Volvo\\'s commitment to not only protecting occupants but also vulnerable road users. Performance and Efficiency: The S90 offers a range of powertrains to suit different driving preferences. The T5 and T6 models feature turbocharged and supercharged four-cylinder engines, respectively. These engines provide a blend of power and efficiency, with the T6 delivering brisk acceleration. For those seeking even more power, the T8 hybrid variant combines the supercharged and turbocharged engine with an electric motor, producing impressive horsepower while maintaining excellent fuel efficiency. The ride quality of the S90 is refined and comfortable, absorbing road imperfections with ease. Precise steering and a well-tuned chassis contribute to a composed and enjoyable driving experience. Selectable drive modes allow drivers to tailor the car\\'s performance characteristics to their liking, from a relaxed and fuel-efficient \"Comfort\" mode to a more dynamic \"Dynamic\" mode that sharpens throttle response and tightens suspension settings. Technological Advancements: Volvo\\'s commitment to innovation extends to the S90\\'s technology features. The Sensus infotainment system, displayed on a large touchscreen, serves as the central hub for navigation, entertainment, and vehicle settings. It\\'s intuitive and responsive, making it easy to access various functions. Apple CarPlay and Android Auto compatibility further enhance connectivity. In the realm of audio, the available Bowers & Wilkins premium sound system delivers a concert-like listening experience. Its crystal-clear sound quality and immersive surround-sound capabilities make it a must-have option for audiophiles. Conclusion: The Volvo S90 represents the perfect blend of luxury, safety, and performance. Its striking design, advanced safety features, and innovative technology make it a compelling choice in the competitive luxury sedan market. Whether you\\'re looking for a comfortable and stylish daily driver or a long-distance cruiser with cutting-edge safety, the Volvo S90 offers a compelling package that appeals to a wide range of discerning drivers. It\\'s a testament to Volvo\\'s vision of creating vehicles that prioritize the well-being of both passengers and the world we inhabit.', metadata={'source': 'text.txt'}),\n",
       " Document(page_content='The Volvo S90: Where Elegance Meets Innovation, The Volvo S90, a flagship luxury sedan from the Swedish automaker, is a testament to the brand\\'s commitment to safety, performance, and Scandinavian design principles. Introduced in 2016, the S90 immediately made a strong impression in the luxury sedan segment and has continued to evolve with each subsequent model year. Design and Aesthetics: At first glance, the Volvo S90 captivates with its sleek and understated design. Clean lines, a bold grille adorned with the iconic Volvo emblem, and distinctive Thor\\'s Hammer LED headlights create an unmistakable presence on the road. The exterior design is a fusion of timeless elegance and modern sophistication, setting it apart from more ostentatious luxury cars. Step inside, and you\\'re greeted with an interior that embodies Scandinavian luxury. Premium materials such as Nappa leather, real wood trim, and brushed metal accents adorn the cabin. The minimalist design philosophy of Volvo is evident in the uncluttered dashboard and the vertically oriented touchscreen infotainment system, which has become a hallmark of Volvo\\'s interior design. The spaciousness of the cabin ensures that both front and rear passengers enjoy a comfortable and luxurious ride. Safety Innovations: Volvo has long been synonymous with safety, and the S90 is no exception. It\\'s equipped with a comprehensive suite of safety features, including adaptive cruise control, blind-spot monitoring, lane-keeping assist, and automated emergency braking. The Pilot Assist system, a semi-autonomous driving feature, adds an extra layer of safety and convenience during highway driving. One of the most noteworthy safety innovations in the S90 is the City Safety system. This advanced technology can detect pedestrians, cyclists, and large animals in the vehicle\\'s path and automatically apply the brakes if a collision is imminent. It\\'s a testament to Volvo\\'s commitment to not only protecting occupants but also vulnerable road users. Performance and Efficiency: The S90 offers a range of powertrains to suit different driving preferences. The T5 and T6 models feature turbocharged and supercharged four-cylinder engines, respectively. These engines provide a blend of power and efficiency, with the T6 delivering brisk acceleration. For those seeking even more power, the T8 hybrid variant combines the supercharged and turbocharged engine with an electric motor, producing impressive horsepower while maintaining excellent fuel efficiency. The ride quality of the S90 is refined and comfortable, absorbing road imperfections with ease. Precise steering and a well-tuned chassis contribute to a composed and enjoyable driving experience. Selectable drive modes allow drivers to tailor the car\\'s performance characteristics to their liking, from a relaxed and fuel-efficient \"Comfort\" mode to a more dynamic \"Dynamic\" mode that sharpens throttle response and tightens suspension settings. Technological Advancements: Volvo\\'s commitment to innovation extends to the S90\\'s technology features. The Sensus infotainment system, displayed on a large touchscreen, serves as the central hub for navigation, entertainment, and vehicle settings. It\\'s intuitive and responsive, making it easy to access various functions. Apple CarPlay and Android Auto compatibility further enhance connectivity. In the realm of audio, the available Bowers & Wilkins premium sound system delivers a concert-like listening experience. Its crystal-clear sound quality and immersive surround-sound capabilities make it a must-have option for audiophiles. Conclusion: The Volvo S90 represents the perfect blend of luxury, safety, and performance. Its striking design, advanced safety features, and innovative technology make it a compelling choice in the competitive luxury sedan market. Whether you\\'re looking for a comfortable and stylish daily driver or a long-distance cruiser with cutting-edge safety, the Volvo S90 offers a compelling package that appeals to a wide range of discerning drivers. It\\'s a testament to Volvo\\'s vision of creating vehicles that prioritize the well-being of both passengers and the world we inhabit.', metadata={'source': 'text.txt'}),\n",
       " Document(page_content='The Volvo S90: Where Elegance Meets Innovation, The Volvo S90, a flagship luxury sedan from the Swedish automaker, is a testament to the brand\\'s commitment to safety, performance, and Scandinavian design principles. Introduced in 2016, the S90 immediately made a strong impression in the luxury sedan segment and has continued to evolve with each subsequent model year. Design and Aesthetics: At first glance, the Volvo S90 captivates with its sleek and understated design. Clean lines, a bold grille adorned with the iconic Volvo emblem, and distinctive Thor\\'s Hammer LED headlights create an unmistakable presence on the road. The exterior design is a fusion of timeless elegance and modern sophistication, setting it apart from more ostentatious luxury cars. Step inside, and you\\'re greeted with an interior that embodies Scandinavian luxury. Premium materials such as Nappa leather, real wood trim, and brushed metal accents adorn the cabin. The minimalist design philosophy of Volvo is evident in the uncluttered dashboard and the vertically oriented touchscreen infotainment system, which has become a hallmark of Volvo\\'s interior design. The spaciousness of the cabin ensures that both front and rear passengers enjoy a comfortable and luxurious ride. Safety Innovations: Volvo has long been synonymous with safety, and the S90 is no exception. It\\'s equipped with a comprehensive suite of safety features, including adaptive cruise control, blind-spot monitoring, lane-keeping assist, and automated emergency braking. The Pilot Assist system, a semi-autonomous driving feature, adds an extra layer of safety and convenience during highway driving. One of the most noteworthy safety innovations in the S90 is the City Safety system. This advanced technology can detect pedestrians, cyclists, and large animals in the vehicle\\'s path and automatically apply the brakes if a collision is imminent. It\\'s a testament to Volvo\\'s commitment to not only protecting occupants but also vulnerable road users. Performance and Efficiency: The S90 offers a range of powertrains to suit different driving preferences. The T5 and T6 models feature turbocharged and supercharged four-cylinder engines, respectively. These engines provide a blend of power and efficiency, with the T6 delivering brisk acceleration. For those seeking even more power, the T8 hybrid variant combines the supercharged and turbocharged engine with an electric motor, producing impressive horsepower while maintaining excellent fuel efficiency. The ride quality of the S90 is refined and comfortable, absorbing road imperfections with ease. Precise steering and a well-tuned chassis contribute to a composed and enjoyable driving experience. Selectable drive modes allow drivers to tailor the car\\'s performance characteristics to their liking, from a relaxed and fuel-efficient \"Comfort\" mode to a more dynamic \"Dynamic\" mode that sharpens throttle response and tightens suspension settings. Technological Advancements: Volvo\\'s commitment to innovation extends to the S90\\'s technology features. The Sensus infotainment system, displayed on a large touchscreen, serves as the central hub for navigation, entertainment, and vehicle settings. It\\'s intuitive and responsive, making it easy to access various functions. Apple CarPlay and Android Auto compatibility further enhance connectivity. In the realm of audio, the available Bowers & Wilkins premium sound system delivers a concert-like listening experience. Its crystal-clear sound quality and immersive surround-sound capabilities make it a must-have option for audiophiles. Conclusion: The Volvo S90 represents the perfect blend of luxury, safety, and performance. Its striking design, advanced safety features, and innovative technology make it a compelling choice in the competitive luxury sedan market. Whether you\\'re looking for a comfortable and stylish daily driver or a long-distance cruiser with cutting-edge safety, the Volvo S90 offers a compelling package that appeals to a wide range of discerning drivers. It\\'s a testament to Volvo\\'s vision of creating vehicles that prioritize the well-being of both passengers and the world we inhabit.', metadata={'source': 'text.txt'})]"
      ]
     },
     "execution_count": 17,
     "metadata": {},
     "output_type": "execute_result"
    }
   ],
   "source": [
    "db3 = Chroma(persist_directory=\"databse\", embedding_function=embedding_function)\n",
    "docs1 = db3.similarity_search(query)\n",
    "docs1"
   ]
  },
  {
   "cell_type": "code",
   "execution_count": 20,
   "metadata": {},
   "outputs": [
    {
     "data": {
      "text/plain": [
       "[Document(page_content='The Volvo S90: Where Elegance Meets Innovation, The Volvo S90, a flagship luxury sedan from the Swedish automaker, is a testament to the brand\\'s commitment to safety, performance, and Scandinavian design principles. Introduced in 2016, the S90 immediately made a strong impression in the luxury sedan segment and has continued to evolve with each subsequent model year. Design and Aesthetics: At first glance, the Volvo S90 captivates with its sleek and understated design. Clean lines, a bold grille adorned with the iconic Volvo emblem, and distinctive Thor\\'s Hammer LED headlights create an unmistakable presence on the road. The exterior design is a fusion of timeless elegance and modern sophistication, setting it apart from more ostentatious luxury cars. Step inside, and you\\'re greeted with an interior that embodies Scandinavian luxury. Premium materials such as Nappa leather, real wood trim, and brushed metal accents adorn the cabin. The minimalist design philosophy of Volvo is evident in the uncluttered dashboard and the vertically oriented touchscreen infotainment system, which has become a hallmark of Volvo\\'s interior design. The spaciousness of the cabin ensures that both front and rear passengers enjoy a comfortable and luxurious ride. Safety Innovations: Volvo has long been synonymous with safety, and the S90 is no exception. It\\'s equipped with a comprehensive suite of safety features, including adaptive cruise control, blind-spot monitoring, lane-keeping assist, and automated emergency braking. The Pilot Assist system, a semi-autonomous driving feature, adds an extra layer of safety and convenience during highway driving. One of the most noteworthy safety innovations in the S90 is the City Safety system. This advanced technology can detect pedestrians, cyclists, and large animals in the vehicle\\'s path and automatically apply the brakes if a collision is imminent. It\\'s a testament to Volvo\\'s commitment to not only protecting occupants but also vulnerable road users. Performance and Efficiency: The S90 offers a range of powertrains to suit different driving preferences. The T5 and T6 models feature turbocharged and supercharged four-cylinder engines, respectively. These engines provide a blend of power and efficiency, with the T6 delivering brisk acceleration. For those seeking even more power, the T8 hybrid variant combines the supercharged and turbocharged engine with an electric motor, producing impressive horsepower while maintaining excellent fuel efficiency. The ride quality of the S90 is refined and comfortable, absorbing road imperfections with ease. Precise steering and a well-tuned chassis contribute to a composed and enjoyable driving experience. Selectable drive modes allow drivers to tailor the car\\'s performance characteristics to their liking, from a relaxed and fuel-efficient \"Comfort\" mode to a more dynamic \"Dynamic\" mode that sharpens throttle response and tightens suspension settings. Technological Advancements: Volvo\\'s commitment to innovation extends to the S90\\'s technology features. The Sensus infotainment system, displayed on a large touchscreen, serves as the central hub for navigation, entertainment, and vehicle settings. It\\'s intuitive and responsive, making it easy to access various functions. Apple CarPlay and Android Auto compatibility further enhance connectivity. In the realm of audio, the available Bowers & Wilkins premium sound system delivers a concert-like listening experience. Its crystal-clear sound quality and immersive surround-sound capabilities make it a must-have option for audiophiles. Conclusion: The Volvo S90 represents the perfect blend of luxury, safety, and performance. Its striking design, advanced safety features, and innovative technology make it a compelling choice in the competitive luxury sedan market. Whether you\\'re looking for a comfortable and stylish daily driver or a long-distance cruiser with cutting-edge safety, the Volvo S90 offers a compelling package that appeals to a wide range of discerning drivers. It\\'s a testament to Volvo\\'s vision of creating vehicles that prioritize the well-being of both passengers and the world we inhabit.', metadata={'source': 'text.txt'}),\n",
       " Document(page_content='The Volvo S90: Where Elegance Meets Innovation, The Volvo S90, a flagship luxury sedan from the Swedish automaker, is a testament to the brand\\'s commitment to safety, performance, and Scandinavian design principles. Introduced in 2016, the S90 immediately made a strong impression in the luxury sedan segment and has continued to evolve with each subsequent model year. Design and Aesthetics: At first glance, the Volvo S90 captivates with its sleek and understated design. Clean lines, a bold grille adorned with the iconic Volvo emblem, and distinctive Thor\\'s Hammer LED headlights create an unmistakable presence on the road. The exterior design is a fusion of timeless elegance and modern sophistication, setting it apart from more ostentatious luxury cars. Step inside, and you\\'re greeted with an interior that embodies Scandinavian luxury. Premium materials such as Nappa leather, real wood trim, and brushed metal accents adorn the cabin. The minimalist design philosophy of Volvo is evident in the uncluttered dashboard and the vertically oriented touchscreen infotainment system, which has become a hallmark of Volvo\\'s interior design. The spaciousness of the cabin ensures that both front and rear passengers enjoy a comfortable and luxurious ride. Safety Innovations: Volvo has long been synonymous with safety, and the S90 is no exception. It\\'s equipped with a comprehensive suite of safety features, including adaptive cruise control, blind-spot monitoring, lane-keeping assist, and automated emergency braking. The Pilot Assist system, a semi-autonomous driving feature, adds an extra layer of safety and convenience during highway driving. One of the most noteworthy safety innovations in the S90 is the City Safety system. This advanced technology can detect pedestrians, cyclists, and large animals in the vehicle\\'s path and automatically apply the brakes if a collision is imminent. It\\'s a testament to Volvo\\'s commitment to not only protecting occupants but also vulnerable road users. Performance and Efficiency: The S90 offers a range of powertrains to suit different driving preferences. The T5 and T6 models feature turbocharged and supercharged four-cylinder engines, respectively. These engines provide a blend of power and efficiency, with the T6 delivering brisk acceleration. For those seeking even more power, the T8 hybrid variant combines the supercharged and turbocharged engine with an electric motor, producing impressive horsepower while maintaining excellent fuel efficiency. The ride quality of the S90 is refined and comfortable, absorbing road imperfections with ease. Precise steering and a well-tuned chassis contribute to a composed and enjoyable driving experience. Selectable drive modes allow drivers to tailor the car\\'s performance characteristics to their liking, from a relaxed and fuel-efficient \"Comfort\" mode to a more dynamic \"Dynamic\" mode that sharpens throttle response and tightens suspension settings. Technological Advancements: Volvo\\'s commitment to innovation extends to the S90\\'s technology features. The Sensus infotainment system, displayed on a large touchscreen, serves as the central hub for navigation, entertainment, and vehicle settings. It\\'s intuitive and responsive, making it easy to access various functions. Apple CarPlay and Android Auto compatibility further enhance connectivity. In the realm of audio, the available Bowers & Wilkins premium sound system delivers a concert-like listening experience. Its crystal-clear sound quality and immersive surround-sound capabilities make it a must-have option for audiophiles. Conclusion: The Volvo S90 represents the perfect blend of luxury, safety, and performance. Its striking design, advanced safety features, and innovative technology make it a compelling choice in the competitive luxury sedan market. Whether you\\'re looking for a comfortable and stylish daily driver or a long-distance cruiser with cutting-edge safety, the Volvo S90 offers a compelling package that appeals to a wide range of discerning drivers. It\\'s a testament to Volvo\\'s vision of creating vehicles that prioritize the well-being of both passengers and the world we inhabit.', metadata={'source': 'text.txt'}),\n",
       " Document(page_content='The Volvo S90: Where Elegance Meets Innovation, The Volvo S90, a flagship luxury sedan from the Swedish automaker, is a testament to the brand\\'s commitment to safety, performance, and Scandinavian design principles. Introduced in 2016, the S90 immediately made a strong impression in the luxury sedan segment and has continued to evolve with each subsequent model year. Design and Aesthetics: At first glance, the Volvo S90 captivates with its sleek and understated design. Clean lines, a bold grille adorned with the iconic Volvo emblem, and distinctive Thor\\'s Hammer LED headlights create an unmistakable presence on the road. The exterior design is a fusion of timeless elegance and modern sophistication, setting it apart from more ostentatious luxury cars. Step inside, and you\\'re greeted with an interior that embodies Scandinavian luxury. Premium materials such as Nappa leather, real wood trim, and brushed metal accents adorn the cabin. The minimalist design philosophy of Volvo is evident in the uncluttered dashboard and the vertically oriented touchscreen infotainment system, which has become a hallmark of Volvo\\'s interior design. The spaciousness of the cabin ensures that both front and rear passengers enjoy a comfortable and luxurious ride. Safety Innovations: Volvo has long been synonymous with safety, and the S90 is no exception. It\\'s equipped with a comprehensive suite of safety features, including adaptive cruise control, blind-spot monitoring, lane-keeping assist, and automated emergency braking. The Pilot Assist system, a semi-autonomous driving feature, adds an extra layer of safety and convenience during highway driving. One of the most noteworthy safety innovations in the S90 is the City Safety system. This advanced technology can detect pedestrians, cyclists, and large animals in the vehicle\\'s path and automatically apply the brakes if a collision is imminent. It\\'s a testament to Volvo\\'s commitment to not only protecting occupants but also vulnerable road users. Performance and Efficiency: The S90 offers a range of powertrains to suit different driving preferences. The T5 and T6 models feature turbocharged and supercharged four-cylinder engines, respectively. These engines provide a blend of power and efficiency, with the T6 delivering brisk acceleration. For those seeking even more power, the T8 hybrid variant combines the supercharged and turbocharged engine with an electric motor, producing impressive horsepower while maintaining excellent fuel efficiency. The ride quality of the S90 is refined and comfortable, absorbing road imperfections with ease. Precise steering and a well-tuned chassis contribute to a composed and enjoyable driving experience. Selectable drive modes allow drivers to tailor the car\\'s performance characteristics to their liking, from a relaxed and fuel-efficient \"Comfort\" mode to a more dynamic \"Dynamic\" mode that sharpens throttle response and tightens suspension settings. Technological Advancements: Volvo\\'s commitment to innovation extends to the S90\\'s technology features. The Sensus infotainment system, displayed on a large touchscreen, serves as the central hub for navigation, entertainment, and vehicle settings. It\\'s intuitive and responsive, making it easy to access various functions. Apple CarPlay and Android Auto compatibility further enhance connectivity. In the realm of audio, the available Bowers & Wilkins premium sound system delivers a concert-like listening experience. Its crystal-clear sound quality and immersive surround-sound capabilities make it a must-have option for audiophiles. Conclusion: The Volvo S90 represents the perfect blend of luxury, safety, and performance. Its striking design, advanced safety features, and innovative technology make it a compelling choice in the competitive luxury sedan market. Whether you\\'re looking for a comfortable and stylish daily driver or a long-distance cruiser with cutting-edge safety, the Volvo S90 offers a compelling package that appeals to a wide range of discerning drivers. It\\'s a testament to Volvo\\'s vision of creating vehicles that prioritize the well-being of both passengers and the world we inhabit.', metadata={'source': 'text.txt'}),\n",
       " Document(page_content='The Volvo S90: Where Elegance Meets Innovation, The Volvo S90, a flagship luxury sedan from the Swedish automaker, is a testament to the brand\\'s commitment to safety, performance, and Scandinavian design principles. Introduced in 2016, the S90 immediately made a strong impression in the luxury sedan segment and has continued to evolve with each subsequent model year. Design and Aesthetics: At first glance, the Volvo S90 captivates with its sleek and understated design. Clean lines, a bold grille adorned with the iconic Volvo emblem, and distinctive Thor\\'s Hammer LED headlights create an unmistakable presence on the road. The exterior design is a fusion of timeless elegance and modern sophistication, setting it apart from more ostentatious luxury cars. Step inside, and you\\'re greeted with an interior that embodies Scandinavian luxury. Premium materials such as Nappa leather, real wood trim, and brushed metal accents adorn the cabin. The minimalist design philosophy of Volvo is evident in the uncluttered dashboard and the vertically oriented touchscreen infotainment system, which has become a hallmark of Volvo\\'s interior design. The spaciousness of the cabin ensures that both front and rear passengers enjoy a comfortable and luxurious ride. Safety Innovations: Volvo has long been synonymous with safety, and the S90 is no exception. It\\'s equipped with a comprehensive suite of safety features, including adaptive cruise control, blind-spot monitoring, lane-keeping assist, and automated emergency braking. The Pilot Assist system, a semi-autonomous driving feature, adds an extra layer of safety and convenience during highway driving. One of the most noteworthy safety innovations in the S90 is the City Safety system. This advanced technology can detect pedestrians, cyclists, and large animals in the vehicle\\'s path and automatically apply the brakes if a collision is imminent. It\\'s a testament to Volvo\\'s commitment to not only protecting occupants but also vulnerable road users. Performance and Efficiency: The S90 offers a range of powertrains to suit different driving preferences. The T5 and T6 models feature turbocharged and supercharged four-cylinder engines, respectively. These engines provide a blend of power and efficiency, with the T6 delivering brisk acceleration. For those seeking even more power, the T8 hybrid variant combines the supercharged and turbocharged engine with an electric motor, producing impressive horsepower while maintaining excellent fuel efficiency. The ride quality of the S90 is refined and comfortable, absorbing road imperfections with ease. Precise steering and a well-tuned chassis contribute to a composed and enjoyable driving experience. Selectable drive modes allow drivers to tailor the car\\'s performance characteristics to their liking, from a relaxed and fuel-efficient \"Comfort\" mode to a more dynamic \"Dynamic\" mode that sharpens throttle response and tightens suspension settings. Technological Advancements: Volvo\\'s commitment to innovation extends to the S90\\'s technology features. The Sensus infotainment system, displayed on a large touchscreen, serves as the central hub for navigation, entertainment, and vehicle settings. It\\'s intuitive and responsive, making it easy to access various functions. Apple CarPlay and Android Auto compatibility further enhance connectivity. In the realm of audio, the available Bowers & Wilkins premium sound system delivers a concert-like listening experience. Its crystal-clear sound quality and immersive surround-sound capabilities make it a must-have option for audiophiles. Conclusion: The Volvo S90 represents the perfect blend of luxury, safety, and performance. Its striking design, advanced safety features, and innovative technology make it a compelling choice in the competitive luxury sedan market. Whether you\\'re looking for a comfortable and stylish daily driver or a long-distance cruiser with cutting-edge safety, the Volvo S90 offers a compelling package that appeals to a wide range of discerning drivers. It\\'s a testament to Volvo\\'s vision of creating vehicles that prioritize the well-being of both passengers and the world we inhabit.', metadata={'source': 'text.txt'})]"
      ]
     },
     "execution_count": 20,
     "metadata": {},
     "output_type": "execute_result"
    }
   ],
   "source": [
    "retriever = db3.as_retriever()\n",
    "docs2 = retriever.get_relevant_documents(\"From what country is volvo\")\n",
    "\n",
    "len(docs2)\n",
    "docs2"
   ]
  },
  {
   "cell_type": "markdown",
   "metadata": {},
   "source": [
    "## Import the model 3.5 turbo"
   ]
  },
  {
   "cell_type": "code",
   "execution_count": 21,
   "metadata": {},
   "outputs": [],
   "source": [
    "from langchain.chat_models import AzureChatOpenAI\n",
    "from langchain.chains import RetrievalQA\n",
    "\n",
    "llm = AzureChatOpenAI(\n",
    "    deployment_name = \"gpt35-uif54579\",\n",
    "    model_name = \"gpt-35-turbo\",\n",
    "    temperature = 0.7\n",
    ")"
   ]
  },
  {
   "cell_type": "code",
   "execution_count": 22,
   "metadata": {},
   "outputs": [
    {
     "data": {
      "text/plain": [
       "AzureChatOpenAI(cache=None, verbose=False, callbacks=None, callback_manager=None, tags=None, metadata=None, client=<class 'openai.api_resources.chat_completion.ChatCompletion'>, model_name='gpt-35-turbo', temperature=0.7, model_kwargs={}, openai_api_key='9ac347d13e834f288a2076ff9c7b418a', openai_api_base='https://sbzdfopenai.openai.azure.com/', openai_organization='', openai_proxy='', request_timeout=None, max_retries=6, streaming=False, n=1, max_tokens=None, tiktoken_model_name=None, deployment_name='gpt35-uif54579', openai_api_type='azure', openai_api_version='2023-03-15-preview')"
      ]
     },
     "execution_count": 22,
     "metadata": {},
     "output_type": "execute_result"
    }
   ],
   "source": [
    "llm"
   ]
  },
  {
   "cell_type": "markdown",
   "metadata": {},
   "source": [
    "## Create a chain and use the query in the model"
   ]
  },
  {
   "cell_type": "code",
   "execution_count": 23,
   "metadata": {},
   "outputs": [],
   "source": [
    "chain = RetrievalQA.from_chain_type(llm=llm, chain_type=\"stuff\", retriever = retriever)"
   ]
  },
  {
   "cell_type": "code",
   "execution_count": 24,
   "metadata": {},
   "outputs": [
    {
     "data": {
      "text/plain": [
       "{'query': 'From what country is volvo',\n",
       " 'result': 'Volvo is a company based in Sweden.'}"
      ]
     },
     "execution_count": 24,
     "metadata": {},
     "output_type": "execute_result"
    }
   ],
   "source": [
    "query1 = 'From what country is volvo'\n",
    "llm_response = chain(query1)\n",
    "llm_response"
   ]
  },
  {
   "cell_type": "code",
   "execution_count": 25,
   "metadata": {},
   "outputs": [
    {
     "data": {
      "text/plain": [
       "'Volvo is a company based in Sweden.'"
      ]
     },
     "execution_count": 25,
     "metadata": {},
     "output_type": "execute_result"
    }
   ],
   "source": [
    "llm_response['result']"
   ]
  },
  {
   "cell_type": "code",
   "execution_count": null,
   "metadata": {},
   "outputs": [],
   "source": []
  },
  {
   "cell_type": "code",
   "execution_count": null,
   "metadata": {},
   "outputs": [],
   "source": []
  },
  {
   "cell_type": "code",
   "execution_count": null,
   "metadata": {},
   "outputs": [],
   "source": []
  },
  {
   "cell_type": "code",
   "execution_count": null,
   "metadata": {},
   "outputs": [],
   "source": []
  },
  {
   "cell_type": "code",
   "execution_count": null,
   "metadata": {},
   "outputs": [],
   "source": []
  },
  {
   "cell_type": "code",
   "execution_count": null,
   "metadata": {},
   "outputs": [],
   "source": []
  },
  {
   "cell_type": "code",
   "execution_count": null,
   "metadata": {},
   "outputs": [],
   "source": []
  }
 ],
 "metadata": {
  "kernelspec": {
   "display_name": "Python 3",
   "language": "python",
   "name": "python3"
  },
  "language_info": {
   "codemirror_mode": {
    "name": "ipython",
    "version": 3
   },
   "file_extension": ".py",
   "mimetype": "text/x-python",
   "name": "python",
   "nbconvert_exporter": "python",
   "pygments_lexer": "ipython3",
   "version": "3.9.13"
  },
  "orig_nbformat": 4
 },
 "nbformat": 4,
 "nbformat_minor": 2
}
