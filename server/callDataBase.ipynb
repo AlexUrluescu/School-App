{
 "cells": [
  {
   "cell_type": "markdown",
   "metadata": {},
   "source": [
    "## This file get info already stored in chroma database (the best version)"
   ]
  },
  {
   "cell_type": "markdown",
   "metadata": {},
   "source": [
    "### Import the libraries to get the env variables"
   ]
  },
  {
   "cell_type": "code",
   "execution_count": 1,
   "metadata": {},
   "outputs": [],
   "source": [
    "import os\n",
    "from dotenv import load_dotenv"
   ]
  },
  {
   "cell_type": "code",
   "execution_count": 2,
   "metadata": {},
   "outputs": [],
   "source": [
    "load_dotenv()\n",
    "\n",
    "OPENAI_API_TYPE = \"azure\"\n",
    "OPENAI_API_VERSION = os.environ.get(\"OPENAI_API_VERSION\")\n",
    "OPENAI_API_KEY = os.environ.get(\"OPENAI_API_KEY\")\n",
    "OPENAI_API_BASE = os.environ.get(\"OPENAI_API_BASE\")\n",
    "OPENAI_API_VERSION = \"2023-03-15-preview\""
   ]
  },
  {
   "cell_type": "code",
   "execution_count": 3,
   "metadata": {},
   "outputs": [
    {
     "data": {
      "text/plain": [
       "'9ac347d13e834f288a2076ff9c7b418a'"
      ]
     },
     "execution_count": 3,
     "metadata": {},
     "output_type": "execute_result"
    }
   ],
   "source": [
    "OPENAI_API_KEY "
   ]
  },
  {
   "cell_type": "code",
   "execution_count": 4,
   "metadata": {},
   "outputs": [],
   "source": [
    "# database = \"./conventia_viena-database\"\n",
    "# database = \"C:/Users/Alex/OneDrive/Documente/PersonalRepos/AI/LangChain/AzureCognitiveSearch/barack_obama-database\"\n",
    "database = \"C:/Users/uif94707/Documents/myProjects/School-App/School-App/server/conti-database\"\n",
    "query = \"How is reorginize public network?\""
   ]
  },
  {
   "cell_type": "markdown",
   "metadata": {},
   "source": [
    "### Import the libraries to connect to chroma database"
   ]
  },
  {
   "cell_type": "code",
   "execution_count": 5,
   "metadata": {},
   "outputs": [
    {
     "name": "stderr",
     "output_type": "stream",
     "text": [
      "c:\\Users\\uif94707\\AppData\\Local\\Programs\\Python\\Python311\\Lib\\site-packages\\deeplake\\util\\check_latest_version.py:32: UserWarning: A newer version of deeplake (3.6.23) is available. It's recommended that you update to the latest version using `pip install -U deeplake`.\n",
      "  warnings.warn(\n"
     ]
    }
   ],
   "source": [
    "from langchain.vectorstores.chroma import Chroma\n",
    "from langchain.embeddings.sentence_transformer import SentenceTransformerEmbeddings\n",
    "from chromadb.utils import embedding_functions\n"
   ]
  },
  {
   "cell_type": "code",
   "execution_count": 6,
   "metadata": {},
   "outputs": [],
   "source": [
    "embedding_function = SentenceTransformerEmbeddings(model_name=\"all-MiniLM-L6-v2\")\n"
   ]
  },
  {
   "cell_type": "markdown",
   "metadata": {},
   "source": [
    "##### Connect to chroma database"
   ]
  },
  {
   "cell_type": "code",
   "execution_count": 7,
   "metadata": {},
   "outputs": [
    {
     "data": {
      "text/plain": [
       "<langchain.vectorstores.chroma.Chroma at 0x1cbd26adb50>"
      ]
     },
     "execution_count": 7,
     "metadata": {},
     "output_type": "execute_result"
    }
   ],
   "source": [
    "db3 = Chroma(persist_directory=database, embedding_function=embedding_function)\n",
    "db3"
   ]
  },
  {
   "cell_type": "markdown",
   "metadata": {},
   "source": [
    "##### Create the retriever and get relevant documents"
   ]
  },
  {
   "cell_type": "code",
   "execution_count": 8,
   "metadata": {},
   "outputs": [
    {
     "name": "stdout",
     "output_type": "stream",
     "text": [
      "[Document(page_content='Internal   \\n© Continental AG.  2023   CA 1014436  \\nVersion  02 Page 8 (14) \\nApproved  \\n Location  Sibiu, Remote functions  Standard  Network Security  \\nInternal  2.4.2  ADAS WAN  \\n- Separate lines for ADAS traffic  \\n- 2x last mile service providers (RDS, Telekom ) with 2 separate entry points  for HA , Optical Fiber  \\n \\n \\n \\n2.5 Telephony  \\n \\n- PBX and VoIP LAN Stacks on  Datacenter  UPS \\n- 3CX IP PBX, SIP  Trunks  \\n \\nLAN Management  and Security  \\n3 LAN Management  \\n-  XMC (Extreme Management Center):  \\n- LDAP Authentication – access only with  specific A ctive Directory Administrative  Account  \\n- Role based authentication  \\n \\n  S-list Id. 16046461;    Decision date: 02 May 2023  09:22:53;    This document contains sensitive information;    Page: 8 of 15.', metadata={'page': 7, 'source': 'conti_documents\\\\CA 1014436-02 SBZ Network Security .pdf'}), Document(page_content='3 Application  ................................ ................................ ................................ ................................ .....................  12 \\n4 Miscellaneous  ................................ ................................ ................................ ................................ ...............  12 \\n4.1 References  ................................ ................................ ................................ ................................ ...........  12 \\n4.1.1  Mandatory  ................................ ................................ ................................ ................................ .... 12 \\n4.2 Definitions and Abbreviations  ................................ ................................ ................................ ...............  13 \\n5 Approval  ................................ ................................ ................................ ................................ ........................  14', metadata={'page': 1, 'source': 'conti_documents\\\\CA 1014436-02 SBZ Network Security .pdf'}), Document(page_content='S-list Id: 16046461 Creation date: 21 Apr 2023  10:24:11\\nS-list file: CA 1014436-02 SBZ Network Security\\n.pdfLast action date: 02 May 2023  09:22:53\\nStatus: APPROVED Duration: 11\\nGroup: QMS Plant Sibiu Category: Standard Procedure\\nSensitive information: Yes\\nRetention time: 30 years\\nExplanation: New Scope after SHAPE\\nInitiator name: Berghian Virgil Initiator email: virgil.berghian@continental-\\ncorporation.com\\nInitiator department: A AN O SIB IT FIX Initiator login name: auto\\\\berghianv\\nSigner Function Set type/name Decision S-list comments\\nTalpos George-Alexandru (A\\nAN O SIB IT FIX)\\nauto\\\\uic49029-george-\\nalexandru.talpos@continental-\\ncorporation.comManufacturing Project Leader Individual signer Accept\\n25 Apr 2023  13:23:06\\n via eSign\\nSideras Cosmin (A AN O SIB\\nIE FIX)\\nauto\\\\siderasc-\\ncosmin.sideras@continental-\\ncorporation.comHead of Plant Industrial\\nEngineering. Head of InfIndividual signer Accept\\n27 Apr 2023  14:08:37\\n via eSign\\nColceriu Camelia (A SCT LM\\nSIB SAM VED ESS DE STO', metadata={'page': 14, 'source': 'conti_documents\\\\CA 1014436-02 SBZ Network Security .pdf'}), Document(page_content='Responsible Function keeps records about the review.  \\nDefinition Team  \\nName  Function / Department  Location  \\nAndreea Unguroiu  Plant QMS Specialist  Sibiu  \\n \\nReview Team (Cooperation with affected organizational units)  \\nName  Function / Department  Location  \\nVirgil Berghian  IT Infrastructure Team Leader  Sibiu  \\n \\nDocument History  \\n \\nVersion  Responsible Function  Details  Effective  \\n1 IT Infrastructure Team \\nLeader  First edition  \\n(former local IT rule)  12/1/2021  \\n2 IT Infrastructure Team \\nLeader  Change the scope  05/01/2023  \\n   S-list Id. 16046461;    Decision date: 02 May 2023  09:22:53;    This document contains sensitive information;    Page: 14 of 15.', metadata={'page': 13, 'source': 'conti_documents\\\\CA 1014436-02 SBZ Network Security .pdf'}), Document(page_content='Internal   \\n© Continental AG.  2023   CA 1014436  \\nVersion  02 Page 4 (14) \\nApproved  \\n Location  Sibiu, Remote functions  Standard  Network Security  \\nInternal   \\n \\n2.2 Active  LAN \\n \\n- design and plans (Level 3 support) are supervised and approved by Automotive Infrastructure Network \\nand Voice team  \\n- clustered active components (Access, Distribution, Core) and redundant paths for c onnectivity in \\nseparate fire zones  \\n- LAN is configured with SPBM (Shortest Path Bridging MAC – 802.1h MAC -in-MAC encapsulation). SPB \\nprovides shortest path forwarding using layer 2 to provide shortest path forwarding. SPB uses the IS -IS \\nprotocol operating at  layer 2 allowing for large networks with fast convergence, equal cost paths and \\neasy provisioning.  \\n- SPBM virtualized services are delineated by I -SIDs.  \\n- Improved security – Client VLAN captive  \\n- ~ 500 managed devices/systems (active LAN components)', metadata={'page': 3, 'source': 'conti_documents\\\\CA 1014436-02 SBZ Network Security .pdf'})]\n"
     ]
    }
   ],
   "source": [
    "retriever = db3.as_retriever(search_type=\"similarity\", search_kwargs = {\"k\": 5})\n",
    "docs = retriever.get_relevant_documents(\"After the family moved to California, where was Stanley enrolled?\")\n",
    "\n",
    "len(docs)\n",
    "print(docs)\n"
   ]
  },
  {
   "cell_type": "markdown",
   "metadata": {},
   "source": [
    "#### Import the model 3.5 turbo"
   ]
  },
  {
   "cell_type": "code",
   "execution_count": 9,
   "metadata": {},
   "outputs": [],
   "source": [
    "from langchain.chat_models import AzureChatOpenAI\n",
    "from langchain.chains import RetrievalQA\n",
    "\n",
    "llm = AzureChatOpenAI(\n",
    "    deployment_name = \"gpt35-uif54579\",\n",
    "    model_name = \"gpt-35-turbo\",\n",
    "    temperature = 0.5\n",
    ")"
   ]
  },
  {
   "cell_type": "code",
   "execution_count": 10,
   "metadata": {},
   "outputs": [
    {
     "data": {
      "text/plain": [
       "AzureChatOpenAI(cache=None, verbose=False, callbacks=None, callback_manager=None, tags=None, metadata=None, client=<class 'openai.api_resources.chat_completion.ChatCompletion'>, model_name='gpt-35-turbo', temperature=0.5, model_kwargs={}, openai_api_key='9ac347d13e834f288a2076ff9c7b418a', openai_api_base='https://sbzdfopenai.openai.azure.com/', openai_organization='', openai_proxy='', request_timeout=None, max_retries=6, streaming=False, n=1, max_tokens=None, tiktoken_model_name=None, deployment_name='gpt35-uif54579', model_version='', openai_api_type='azure', openai_api_version='2023-03-15-preview')"
      ]
     },
     "execution_count": 10,
     "metadata": {},
     "output_type": "execute_result"
    }
   ],
   "source": [
    "llm"
   ]
  },
  {
   "cell_type": "code",
   "execution_count": 11,
   "metadata": {},
   "outputs": [],
   "source": [
    "chain = RetrievalQA.from_chain_type(llm=llm, chain_type=\"stuff\", retriever = retriever, return_source_documents = True)\n"
   ]
  },
  {
   "cell_type": "code",
   "execution_count": 47,
   "metadata": {},
   "outputs": [],
   "source": [
    "def process_llm_response(llm_response):\n",
    "    print(llm_response['result'])\n",
    "    print(\"\\n\\nSources:\")\n",
    "    for source in llm_response[\"source_documents\"]:\n",
    "        print(source.metadata['source'])"
   ]
  },
  {
   "cell_type": "code",
   "execution_count": 13,
   "metadata": {},
   "outputs": [
    {
     "data": {
      "text/plain": [
       "{'query': 'How is reorginize public network?',\n",
       " 'result': 'The context mentions that the public network is re-organized according to new cybersecurity rules. However, it does not provide any specific details on how the reorganization is done. Therefore, I do not know the answer to your question.',\n",
       " 'source_documents': [Document(page_content='protocol operating at  layer 2 allowing for large networks with fast convergence, equal cost paths and \\neasy provisioning.  \\n- SPBM virtualized services are delineated by I -SIDs.  \\n- Improved security – Client VLAN captive  \\n- ~ 500 managed devices/systems (active LAN components)  \\n- 40G LAN core and distribution, 10G LAN access to clients, 10G LAN access to critical servers, Public \\nnetwork, MIS Storage network  \\n \\n \\nNetwork Architecture  \\nLAN 3 Tier Architecture (Core, Distribution, Access)  \\nClients (Shopfloor, Office, R&D) and Servers  \\n  S-list Id. 16046461;    Decision date: 02 May 2023  09:22:53;    This document contains sensitive information;    Page: 4 of 15.', metadata={'page': 3, 'source': 'conti_documents\\\\CA 1014436-02 SBZ Network Security .pdf'}),\n",
       "  Document(page_content='Segmentation is implemented as a mapping between class “C” IP subnets and VLANs: every subnet has  an \\nassociated VLAN and is distributed according topology.  \\nThis separation is between office workplaces (where development engineers are sitting) and hosts on production \\nlines.  \\n2 x Segmentation Firewalls – Cisco Firepowe r 4115Threat Defense  \\nPublic network  is re-organized  in according with new cybersecurity rules.  \\nTwo I mportant categories: Trusted and Untrusted devices and are separate d by firewall, untrusted  devices are \\nbehind firewall and there are configured more than 6 500 ACLs.    S-list Id. 16046461;    Decision date: 02 May 2023  09:22:53;    This document contains sensitive information;    Page: 10 of 15.', metadata={'page': 9, 'source': 'conti_documents\\\\CA 1014436-02 SBZ Network Security .pdf'}),\n",
       "  Document(page_content='Internal   \\n© Continental AG.  2023   CA 1014436  \\nVersion  02 Page 3 (14) \\nApproved  \\n Location  Sibiu, Remote functions  Standard  Network Security  \\nInternal  1 Scope of Content  \\nObjective:  This document describes layout, administration and security procedures of main network elements \\nand services.  \\nGoal:  Overview of network architecture, security and management process, description of categories and \\nservices: design, equipment (active and passive devices), provisioning, imp lementation and operation according \\nto guidelines and security policies; LAN concepts, devices and services.  \\nScope:  Location Sibiu  \\n2 Network Elements  \\nLAN is designed following the base ideas of performance , security  and scalability . \\nPassive LAN design (coppe r and optical fiber) follows Continental approved standards for equipment and \\nimplementation.  \\nActive LAN design is 3 tier architecture  (core, distribution, access) and is taking into consideration only approved', metadata={'page': 2, 'source': 'conti_documents\\\\CA 1014436-02 SBZ Network Security .pdf'}),\n",
       "  Document(page_content='Internal   \\n© Continental AG.  2023   CA 1014436  \\nVersion  02 Page 4 (14) \\nApproved  \\n Location  Sibiu, Remote functions  Standard  Network Security  \\nInternal   \\n \\n2.2 Active  LAN \\n \\n- design and plans (Level 3 support) are supervised and approved by Automotive Infrastructure Network \\nand Voice team  \\n- clustered active components (Access, Distribution, Core) and redundant paths for c onnectivity in \\nseparate fire zones  \\n- LAN is configured with SPBM (Shortest Path Bridging MAC – 802.1h MAC -in-MAC encapsulation). SPB \\nprovides shortest path forwarding using layer 2 to provide shortest path forwarding. SPB uses the IS -IS \\nprotocol operating at  layer 2 allowing for large networks with fast convergence, equal cost paths and \\neasy provisioning.  \\n- SPBM virtualized services are delineated by I -SIDs.  \\n- Improved security – Client VLAN captive  \\n- ~ 500 managed devices/systems (active LAN components)', metadata={'page': 3, 'source': 'conti_documents\\\\CA 1014436-02 SBZ Network Security .pdf'}),\n",
       "  Document(page_content='2.5 Telephony  ................................ ................................ ................................ ................................ ...............  8 \\n3.1 LAN Management  ................................ ................................ ................................ ................................ ..............  8 \\n3.2 Security – Network Access Control  ................................ ................................ ................................ .................  10 \\nSubnets and VLANs  ................................ ................................ ................................ ................................ ...... 10 \\n2.5.1  Process performance indicators (KPIs)  ................................ ................................ .......................  12 \\n3 Application  ................................ ................................ ................................ ................................ .....................  12', metadata={'page': 1, 'source': 'conti_documents\\\\CA 1014436-02 SBZ Network Security .pdf'})]}"
      ]
     },
     "execution_count": 13,
     "metadata": {},
     "output_type": "execute_result"
    }
   ],
   "source": [
    "llm_response = chain(query)\n",
    "llm_response"
   ]
  },
  {
   "cell_type": "code",
   "execution_count": 14,
   "metadata": {},
   "outputs": [
    {
     "ename": "NameError",
     "evalue": "name 'process_llm_response' is not defined",
     "output_type": "error",
     "traceback": [
      "\u001b[1;31m---------------------------------------------------------------------------\u001b[0m",
      "\u001b[1;31mNameError\u001b[0m                                 Traceback (most recent call last)",
      "Cell \u001b[1;32mIn[14], line 1\u001b[0m\n\u001b[1;32m----> 1\u001b[0m process_llm_response(llm_response)\n",
      "\u001b[1;31mNameError\u001b[0m: name 'process_llm_response' is not defined"
     ]
    }
   ],
   "source": [
    "process_llm_response(llm_response)"
   ]
  },
  {
   "cell_type": "code",
   "execution_count": 15,
   "metadata": {},
   "outputs": [
    {
     "data": {
      "text/plain": [
       "'The context mentions that the public network is re-organized according to new cybersecurity rules. However, it does not provide any specific details on how the reorganization is done. Therefore, I do not know the answer to your question.'"
      ]
     },
     "execution_count": 15,
     "metadata": {},
     "output_type": "execute_result"
    }
   ],
   "source": [
    "llm_response['result']"
   ]
  }
 ],
 "metadata": {
  "kernelspec": {
   "display_name": "Python 3",
   "language": "python",
   "name": "python3"
  },
  "language_info": {
   "codemirror_mode": {
    "name": "ipython",
    "version": 3
   },
   "file_extension": ".py",
   "mimetype": "text/x-python",
   "name": "python",
   "nbconvert_exporter": "python",
   "pygments_lexer": "ipython3",
   "version": "3.11.3"
  },
  "orig_nbformat": 4
 },
 "nbformat": 4,
 "nbformat_minor": 2
}
