{
 "cells": [
  {
   "cell_type": "markdown",
   "metadata": {},
   "source": [
    "## This file get info already stored in chroma database (the best version)"
   ]
  },
  {
   "cell_type": "markdown",
   "metadata": {},
   "source": [
    "### Import the libraries to get the env variables"
   ]
  },
  {
   "cell_type": "code",
   "execution_count": 1,
   "metadata": {},
   "outputs": [],
   "source": [
    "import os\n",
    "from dotenv import load_dotenv"
   ]
  },
  {
   "cell_type": "code",
   "execution_count": 2,
   "metadata": {},
   "outputs": [],
   "source": [
    "load_dotenv()\n",
    "\n",
    "OPENAI_API_TYPE = \"azure\"\n",
    "OPENAI_API_VERSION = os.environ.get(\"OPENAI_API_VERSION\")\n",
    "OPENAI_API_KEY = os.environ.get(\"OPENAI_API_KEY\")\n",
    "OPENAI_API_BASE = os.environ.get(\"OPENAI_API_BASE\")\n",
    "OPENAI_API_VERSION = \"2023-03-15-preview\""
   ]
  },
  {
   "cell_type": "code",
   "execution_count": 3,
   "metadata": {},
   "outputs": [
    {
     "data": {
      "text/plain": [
       "'9ac347d13e834f288a2076ff9c7b418a'"
      ]
     },
     "execution_count": 3,
     "metadata": {},
     "output_type": "execute_result"
    }
   ],
   "source": [
    "OPENAI_API_KEY "
   ]
  },
  {
   "cell_type": "code",
   "execution_count": 18,
   "metadata": {},
   "outputs": [],
   "source": [
    "# database = \"./conventia_viena-database\"\n",
    "# database = \"C:/Users/Alex/OneDrive/Documente/PersonalRepos/AI/LangChain/AzureCognitiveSearch/barack_obama-database\"\n",
    "# database = \"C:/Users/uif94707/Documents/myProjects/School-App/School-App/server/electrotehnica-database\"\n",
    "database = \"./electrotehnica-database\"\n",
    "query = \"care este defazajul dintre tensiune şi curent?\""
   ]
  },
  {
   "cell_type": "markdown",
   "metadata": {},
   "source": [
    "### Import the libraries to connect to chroma database"
   ]
  },
  {
   "cell_type": "code",
   "execution_count": 19,
   "metadata": {},
   "outputs": [],
   "source": [
    "from langchain.vectorstores.chroma import Chroma\n",
    "from langchain.embeddings.sentence_transformer import SentenceTransformerEmbeddings\n",
    "from chromadb.utils import embedding_functions\n"
   ]
  },
  {
   "cell_type": "code",
   "execution_count": 20,
   "metadata": {},
   "outputs": [],
   "source": [
    "embedding_function = SentenceTransformerEmbeddings(model_name=\"all-MiniLM-L6-v2\")\n"
   ]
  },
  {
   "cell_type": "markdown",
   "metadata": {},
   "source": [
    "##### Connect to chroma database"
   ]
  },
  {
   "cell_type": "code",
   "execution_count": 21,
   "metadata": {},
   "outputs": [
    {
     "data": {
      "text/plain": [
       "<langchain.vectorstores.chroma.Chroma at 0x10f67a6fa10>"
      ]
     },
     "execution_count": 21,
     "metadata": {},
     "output_type": "execute_result"
    }
   ],
   "source": [
    "db3 = Chroma(persist_directory=database, embedding_function=embedding_function)\n",
    "db3"
   ]
  },
  {
   "cell_type": "markdown",
   "metadata": {},
   "source": [
    "##### Create the retriever and get relevant documents"
   ]
  },
  {
   "cell_type": "code",
   "execution_count": 22,
   "metadata": {},
   "outputs": [
    {
     "name": "stdout",
     "output_type": "stream",
     "text": [
      "[Document(page_content='Modulul impedanţei complexe \\nL X ZL\\uf077==  - se numeşte reactanţa inductivă. Tensiunea la \\nbornele bobinei este defazată cu \\n2π=\\uf06a  în faţa curentului.  \\n \\n \\nCondensatorul ideal   \\nCondensatorul ideal este caracterizat de capacitatea electrică C. Ecuaţia de funcţionare \\neste: \\n\\uf0f2\\uf0d7\\uf0d7= dti(t)C1u(t)\\n  \\nEcuaţia de funcţionare în complex este:  \\nICjω1U \\uf0d7\\uf0d7=\\n  \\nImpedanţa complexă:  \\nCjω1\\n\\uf0d7=Z\\n \\nCω1\\n\\uf0d7=Z\\n - se numeşte reactanţă capacitivă.  \\nDefazajul dintre tensiune şi curent este:\\n2π−=\\uf06a . \\nFigura 5.10', metadata={'page': 1, 'source': 'electrotehnica_documents\\\\curs1.pdf'}), Document(page_content='ELEMENTELE IDEALE DE CIRCUIT ÎN REGIM SINUSOIDAL  \\n \\n Rezistorul ideal   \\nRezistorul ideal prezintă o rezistenţă electrică R şi este caracterizat de ecuaţia:  \\n)( u(t) tRi=\\n \\nEcuaţia de funcţionare în complex devine:  \\nIRU=\\n \\nImpedanţa complexă a rezistorului va fi:  \\nIUZ=\\n  \\nDefazajul dintre tensiune şi curent este nul:  \\n\\uf06a = 0   \\nÎn figura este reprezentat simbolul rezistorului, variaţia în timp a tensiunii şi curentului \\nşi diagrama fazorială.  \\n \\n \\n \\nBobina ideală   \\nBobina ideal ă prezintă numai inductivitatea L (rezistenţa proprie este egală cu zero).  \\nEcuaţia de funcţionare este:  \\ndtdi(t)L)(uL=t\\n  \\nEcuaţia de funcţionare  în complex:  \\nU=j\\n\\uf077LI  \\nImpedanţa complexă:  \\nZ=j\\n\\uf077L', metadata={'page': 0, 'source': 'electrotehnica_documents\\\\curs1.pdf'})]\n"
     ]
    }
   ],
   "source": [
    "retriever = db3.as_retriever(search_type=\"similarity\", search_kwargs = {\"k\": 2})\n",
    "docs = retriever.get_relevant_documents(query)\n",
    "\n",
    "len(docs)\n",
    "print(docs)\n"
   ]
  },
  {
   "cell_type": "markdown",
   "metadata": {},
   "source": [
    "#### Import the model 3.5 turbo"
   ]
  },
  {
   "cell_type": "code",
   "execution_count": 23,
   "metadata": {},
   "outputs": [],
   "source": [
    "from langchain.chat_models import AzureChatOpenAI\n",
    "from langchain.chains import RetrievalQA\n",
    "\n",
    "llm = AzureChatOpenAI(\n",
    "    deployment_name = \"gpt35-uif54579\",\n",
    "    model_name = \"gpt-35-turbo\",\n",
    "    temperature = 0.5\n",
    ")"
   ]
  },
  {
   "cell_type": "code",
   "execution_count": 24,
   "metadata": {},
   "outputs": [
    {
     "data": {
      "text/plain": [
       "AzureChatOpenAI(cache=None, verbose=False, callbacks=None, callback_manager=None, tags=None, metadata=None, client=<class 'openai.api_resources.chat_completion.ChatCompletion'>, model_name='gpt-35-turbo', temperature=0.5, model_kwargs={}, openai_api_key='9ac347d13e834f288a2076ff9c7b418a', openai_api_base='https://sbzdfopenai.openai.azure.com/', openai_organization='', openai_proxy='', request_timeout=None, max_retries=6, streaming=False, n=1, max_tokens=None, tiktoken_model_name=None, deployment_name='gpt35-uif54579', model_version='', openai_api_type='azure', openai_api_version='2023-03-15-preview')"
      ]
     },
     "execution_count": 24,
     "metadata": {},
     "output_type": "execute_result"
    }
   ],
   "source": [
    "llm"
   ]
  },
  {
   "cell_type": "code",
   "execution_count": 25,
   "metadata": {},
   "outputs": [],
   "source": [
    "chain = RetrievalQA.from_chain_type(llm=llm, chain_type=\"stuff\", retriever = retriever, return_source_documents = True)\n"
   ]
  },
  {
   "cell_type": "code",
   "execution_count": 47,
   "metadata": {},
   "outputs": [],
   "source": [
    "def process_llm_response(llm_response):\n",
    "    print(llm_response['result'])\n",
    "    print(\"\\n\\nSources:\")\n",
    "    for source in llm_response[\"source_documents\"]:\n",
    "        print(source.metadata['source'])"
   ]
  },
  {
   "cell_type": "code",
   "execution_count": 26,
   "metadata": {},
   "outputs": [
    {
     "data": {
      "text/plain": [
       "{'query': 'care este defazajul dintre tensiune şi curent?',\n",
       " 'result': 'Pentru bobina ideală, defazajul dintre tensiune şi curent este de 2π=\\uf06a în faţa curentului.',\n",
       " 'source_documents': [Document(page_content='Modulul impedanţei complexe \\nL X ZL\\uf077==  - se numeşte reactanţa inductivă. Tensiunea la \\nbornele bobinei este defazată cu \\n2π=\\uf06a  în faţa curentului.  \\n \\n \\nCondensatorul ideal   \\nCondensatorul ideal este caracterizat de capacitatea electrică C. Ecuaţia de funcţionare \\neste: \\n\\uf0f2\\uf0d7\\uf0d7= dti(t)C1u(t)\\n  \\nEcuaţia de funcţionare în complex este:  \\nICjω1U \\uf0d7\\uf0d7=\\n  \\nImpedanţa complexă:  \\nCjω1\\n\\uf0d7=Z\\n \\nCω1\\n\\uf0d7=Z\\n - se numeşte reactanţă capacitivă.  \\nDefazajul dintre tensiune şi curent este:\\n2π−=\\uf06a . \\nFigura 5.10', metadata={'page': 1, 'source': 'electrotehnica_documents\\\\curs1.pdf'}),\n",
       "  Document(page_content='ELEMENTELE IDEALE DE CIRCUIT ÎN REGIM SINUSOIDAL  \\n \\n Rezistorul ideal   \\nRezistorul ideal prezintă o rezistenţă electrică R şi este caracterizat de ecuaţia:  \\n)( u(t) tRi=\\n \\nEcuaţia de funcţionare în complex devine:  \\nIRU=\\n \\nImpedanţa complexă a rezistorului va fi:  \\nIUZ=\\n  \\nDefazajul dintre tensiune şi curent este nul:  \\n\\uf06a = 0   \\nÎn figura este reprezentat simbolul rezistorului, variaţia în timp a tensiunii şi curentului \\nşi diagrama fazorială.  \\n \\n \\n \\nBobina ideală   \\nBobina ideal ă prezintă numai inductivitatea L (rezistenţa proprie este egală cu zero).  \\nEcuaţia de funcţionare este:  \\ndtdi(t)L)(uL=t\\n  \\nEcuaţia de funcţionare  în complex:  \\nU=j\\n\\uf077LI  \\nImpedanţa complexă:  \\nZ=j\\n\\uf077L', metadata={'page': 0, 'source': 'electrotehnica_documents\\\\curs1.pdf'})]}"
      ]
     },
     "execution_count": 26,
     "metadata": {},
     "output_type": "execute_result"
    }
   ],
   "source": [
    "llm_response = chain(query)\n",
    "llm_response"
   ]
  },
  {
   "cell_type": "code",
   "execution_count": 27,
   "metadata": {},
   "outputs": [
    {
     "ename": "NameError",
     "evalue": "name 'process_llm_response' is not defined",
     "output_type": "error",
     "traceback": [
      "\u001b[1;31m---------------------------------------------------------------------------\u001b[0m",
      "\u001b[1;31mNameError\u001b[0m                                 Traceback (most recent call last)",
      "\u001b[1;32mc:\\Users\\uif94707\\Documents\\myProjects\\School-App\\School-App\\server\\callDataBase.ipynb Cell 20\u001b[0m line \u001b[0;36m1\n\u001b[1;32m----> <a href='vscode-notebook-cell:/c%3A/Users/uif94707/Documents/myProjects/School-App/School-App/server/callDataBase.ipynb#X25sZmlsZQ%3D%3D?line=0'>1</a>\u001b[0m process_llm_response(llm_response)\n",
      "\u001b[1;31mNameError\u001b[0m: name 'process_llm_response' is not defined"
     ]
    }
   ],
   "source": [
    "process_llm_response(llm_response)"
   ]
  },
  {
   "cell_type": "code",
   "execution_count": 28,
   "metadata": {},
   "outputs": [
    {
     "data": {
      "text/plain": [
       "'Pentru bobina ideală, defazajul dintre tensiune şi curent este de 2π=\\uf06a în faţa curentului.'"
      ]
     },
     "execution_count": 28,
     "metadata": {},
     "output_type": "execute_result"
    }
   ],
   "source": [
    "llm_response['result']"
   ]
  }
 ],
 "metadata": {
  "kernelspec": {
   "display_name": "Python 3",
   "language": "python",
   "name": "python3"
  },
  "language_info": {
   "codemirror_mode": {
    "name": "ipython",
    "version": 3
   },
   "file_extension": ".py",
   "mimetype": "text/x-python",
   "name": "python",
   "nbconvert_exporter": "python",
   "pygments_lexer": "ipython3",
   "version": "3.11.3"
  },
  "orig_nbformat": 4
 },
 "nbformat": 4,
 "nbformat_minor": 2
}
