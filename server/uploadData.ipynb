{
 "cells": [
  {
   "cell_type": "markdown",
   "metadata": {},
   "source": [
    "## Upload personal data to database\n",
    "## ( the best version )"
   ]
  },
  {
   "cell_type": "markdown",
   "metadata": {},
   "source": [
    "#### Import the libraries to get the env variables"
   ]
  },
  {
   "cell_type": "code",
   "execution_count": 1,
   "metadata": {},
   "outputs": [],
   "source": [
    "import os\n",
    "from dotenv import load_dotenv"
   ]
  },
  {
   "cell_type": "code",
   "execution_count": 2,
   "metadata": {},
   "outputs": [],
   "source": [
    "load_dotenv()\n",
    "\n",
    "OPENAI_API_TYPE = \"azure\"\n",
    "OPENAI_API_VERSION = os.environ.get(\"OPENAI_API_VERSION\")\n",
    "OPENAI_API_KEY = os.environ.get(\"OPENAI_API_KEY\")\n",
    "OPENAI_API_BASE = os.environ.get(\"OPENAI_API_BASE\")\n",
    "OPENAI_API_VERSION = \"2023-03-15-preview\""
   ]
  },
  {
   "cell_type": "code",
   "execution_count": 3,
   "metadata": {},
   "outputs": [
    {
     "data": {
      "text/plain": [
       "'9ac347d13e834f288a2076ff9c7b418a'"
      ]
     },
     "execution_count": 3,
     "metadata": {},
     "output_type": "execute_result"
    }
   ],
   "source": [
    "OPENAI_API_KEY "
   ]
  },
  {
   "cell_type": "markdown",
   "metadata": {},
   "source": [
    "#### Set the name of the database"
   ]
  },
  {
   "cell_type": "code",
   "execution_count": 4,
   "metadata": {},
   "outputs": [],
   "source": [
    "database = \"./electrotehnica_documents/\""
   ]
  },
  {
   "cell_type": "markdown",
   "metadata": {},
   "source": [
    "#### Import the libraries to get the text and split it in chunks"
   ]
  },
  {
   "cell_type": "code",
   "execution_count": 5,
   "metadata": {},
   "outputs": [
    {
     "name": "stderr",
     "output_type": "stream",
     "text": [
      "c:\\Users\\uif94707\\AppData\\Local\\Programs\\Python\\Python311\\Lib\\site-packages\\deeplake\\util\\check_latest_version.py:32: UserWarning: A newer version of deeplake (3.6.25) is available. It's recommended that you update to the latest version using `pip install -U deeplake`.\n",
      "  warnings.warn(\n"
     ]
    }
   ],
   "source": [
    "from langchain.text_splitter import RecursiveCharacterTextSplitter, CharacterTextSplitter\n",
    "from langchain.document_loaders import TextLoader, DirectoryLoader, PyPDFLoader"
   ]
  },
  {
   "cell_type": "markdown",
   "metadata": {},
   "source": [
    "##### Get the text from the documents"
   ]
  },
  {
   "cell_type": "code",
   "execution_count": 6,
   "metadata": {},
   "outputs": [
    {
     "data": {
      "text/plain": [
       "[Document(page_content='ELEMENTELE IDEALE DE CIRCUIT ÎN REGIM SINUSOIDAL  \\n \\n Rezistorul ideal   \\nRezistorul ideal prezintă o rezistenţă electrică R şi este caracterizat de ecuaţia:  \\n)( u(t) tRi=\\n \\nEcuaţia de funcţionare în complex devine:  \\nIRU=\\n \\nImpedanţa complexă a rezistorului va fi:  \\nIUZ=\\n  \\nDefazajul dintre tensiune şi curent este nul:  \\n\\uf06a = 0   \\nÎn figura este reprezentat simbolul rezistorului, variaţia în timp a tensiunii şi curentului \\nşi diagrama fazorială.  \\n \\n \\n \\nBobina ideală   \\nBobina ideal ă prezintă numai inductivitatea L (rezistenţa proprie este egală cu zero).  \\nEcuaţia de funcţionare este:  \\ndtdi(t)L)(uL=t\\n  \\nEcuaţia de funcţionare  în complex:  \\nU=j\\n\\uf077LI  \\nImpedanţa complexă:  \\nZ=j\\n\\uf077L  ', metadata={'source': 'electrotehnica_documents\\\\curs1.pdf', 'page': 0}),\n",
       " Document(page_content='Modulul impedanţei complexe \\nL X ZL\\uf077==  - se numeşte reactanţa inductivă. Tensiunea la \\nbornele bobinei este defazată cu \\n2π=\\uf06a  în faţa curentului.  \\n \\n \\nCondensatorul ideal   \\nCondensatorul ideal este caracterizat de capacitatea electrică C. Ecuaţia de funcţionare \\neste: \\n\\uf0f2\\uf0d7\\uf0d7= dti(t)C1u(t)\\n  \\nEcuaţia de funcţionare în complex este:  \\nICjω1U \\uf0d7\\uf0d7=\\n  \\nImpedanţa complexă:  \\nCjω1\\n\\uf0d7=Z\\n \\nCω1\\n\\uf0d7=Z\\n - se numeşte reactanţă capacitivă.  \\nDefazajul dintre tensiune şi curent este:\\n2π−=\\uf06a . \\nFigura 5.10  \\n ', metadata={'source': 'electrotehnica_documents\\\\curs1.pdf', 'page': 1})]"
      ]
     },
     "execution_count": 6,
     "metadata": {},
     "output_type": "execute_result"
    }
   ],
   "source": [
    "# loader = DirectoryLoader(database, glob=\"./*.txt\", loader_cls=TextLoader)\n",
    "loader = DirectoryLoader(database, glob=\"./*.pdf\", loader_cls=PyPDFLoader)\n",
    "\n",
    "documents = loader.load()\n",
    "documents\n"
   ]
  },
  {
   "cell_type": "markdown",
   "metadata": {},
   "source": [
    "##### Split the text into chunks"
   ]
  },
  {
   "cell_type": "code",
   "execution_count": 8,
   "metadata": {},
   "outputs": [
    {
     "data": {
      "text/plain": [
       "2"
      ]
     },
     "execution_count": 8,
     "metadata": {},
     "output_type": "execute_result"
    }
   ],
   "source": [
    "text_splitter = RecursiveCharacterTextSplitter(chunk_size=1000, chunk_overlap=300)\n",
    "chunks = text_splitter.split_documents(documents)\n",
    "\n",
    "len(chunks)"
   ]
  },
  {
   "cell_type": "markdown",
   "metadata": {},
   "source": [
    "#### Import the libraries to connect to Chroma database"
   ]
  },
  {
   "cell_type": "code",
   "execution_count": 9,
   "metadata": {},
   "outputs": [],
   "source": [
    "from langchain.vectorstores.chroma import Chroma\n",
    "from langchain.embeddings.sentence_transformer import SentenceTransformerEmbeddings"
   ]
  },
  {
   "cell_type": "code",
   "execution_count": 10,
   "metadata": {},
   "outputs": [],
   "source": [
    "embedding_function = SentenceTransformerEmbeddings(model_name=\"all-MiniLM-L6-v2\")\n"
   ]
  },
  {
   "cell_type": "code",
   "execution_count": 11,
   "metadata": {},
   "outputs": [
    {
     "name": "stdout",
     "output_type": "stream",
     "text": [
      "electrotehnica_documents\n"
     ]
    }
   ],
   "source": [
    "# Given string\n",
    "input_string = \"./electrotehnica_documents/\"\n",
    "\n",
    "# Split the string by '/'\n",
    "parts = input_string.split('/')\n",
    "\n",
    "# Get the last part\n",
    "desired_output = parts[-2]\n",
    "\n",
    "print(desired_output)"
   ]
  },
  {
   "cell_type": "markdown",
   "metadata": {},
   "source": [
    "##### Upload the text in chroma database"
   ]
  },
  {
   "cell_type": "code",
   "execution_count": 12,
   "metadata": {},
   "outputs": [
    {
     "name": "stdout",
     "output_type": "stream",
     "text": [
      "electrotehnica\n"
     ]
    },
    {
     "data": {
      "text/plain": [
       "'electrotehnica-database'"
      ]
     },
     "execution_count": 12,
     "metadata": {},
     "output_type": "execute_result"
    }
   ],
   "source": [
    "import re\n",
    "\n",
    "result = re.search(r'(?P<word>\\w+)_', desired_output)\n",
    "\n",
    "if result:\n",
    "    extracted_word = result.group('word')\n",
    "    print(extracted_word)\n",
    "\n",
    "database_name = extracted_word+\"-database\"\n",
    "database_name"
   ]
  },
  {
   "cell_type": "code",
   "execution_count": 14,
   "metadata": {},
   "outputs": [],
   "source": [
    "db2 = Chroma.from_documents(chunks, embedding_function, persist_directory=database_name)"
   ]
  },
  {
   "cell_type": "code",
   "execution_count": null,
   "metadata": {},
   "outputs": [],
   "source": []
  },
  {
   "cell_type": "code",
   "execution_count": null,
   "metadata": {},
   "outputs": [],
   "source": []
  },
  {
   "cell_type": "code",
   "execution_count": null,
   "metadata": {},
   "outputs": [],
   "source": []
  }
 ],
 "metadata": {
  "kernelspec": {
   "display_name": "Python 3",
   "language": "python",
   "name": "python3"
  },
  "language_info": {
   "codemirror_mode": {
    "name": "ipython",
    "version": 3
   },
   "file_extension": ".py",
   "mimetype": "text/x-python",
   "name": "python",
   "nbconvert_exporter": "python",
   "pygments_lexer": "ipython3",
   "version": "3.11.3"
  },
  "orig_nbformat": 4
 },
 "nbformat": 4,
 "nbformat_minor": 2
}
