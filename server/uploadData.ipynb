{
 "cells": [
  {
   "cell_type": "markdown",
   "metadata": {},
   "source": [
    "## Upload personal data to database\n",
    "## ( the best version )"
   ]
  },
  {
   "cell_type": "markdown",
   "metadata": {},
   "source": [
    "#### Import the libraries to get the env variables"
   ]
  },
  {
   "cell_type": "code",
   "execution_count": 1,
   "metadata": {},
   "outputs": [],
   "source": [
    "import os\n",
    "from dotenv import load_dotenv"
   ]
  },
  {
   "cell_type": "code",
   "execution_count": 2,
   "metadata": {},
   "outputs": [],
   "source": [
    "load_dotenv()\n",
    "\n",
    "OPENAI_API_TYPE = \"azure\"\n",
    "OPENAI_API_VERSION = os.environ.get(\"OPENAI_API_VERSION\")\n",
    "OPENAI_API_KEY = os.environ.get(\"OPENAI_API_KEY\")\n",
    "OPENAI_API_BASE = os.environ.get(\"OPENAI_API_BASE\")\n",
    "OPENAI_API_VERSION = \"2023-03-15-preview\""
   ]
  },
  {
   "cell_type": "code",
   "execution_count": 3,
   "metadata": {},
   "outputs": [
    {
     "data": {
      "text/plain": [
       "'9ac347d13e834f288a2076ff9c7b418a'"
      ]
     },
     "execution_count": 3,
     "metadata": {},
     "output_type": "execute_result"
    }
   ],
   "source": [
    "OPENAI_API_KEY "
   ]
  },
  {
   "cell_type": "markdown",
   "metadata": {},
   "source": [
    "#### Set the name of the database"
   ]
  },
  {
   "cell_type": "code",
   "execution_count": 4,
   "metadata": {},
   "outputs": [],
   "source": [
    "database = \"./conti_documents/\""
   ]
  },
  {
   "cell_type": "markdown",
   "metadata": {},
   "source": [
    "#### Import the libraries to get the text and split it in chunks"
   ]
  },
  {
   "cell_type": "code",
   "execution_count": 6,
   "metadata": {},
   "outputs": [],
   "source": [
    "from langchain.text_splitter import RecursiveCharacterTextSplitter, CharacterTextSplitter\n",
    "from langchain.document_loaders import TextLoader, DirectoryLoader, PyPDFLoader"
   ]
  },
  {
   "cell_type": "markdown",
   "metadata": {},
   "source": [
    "##### Get the text from the documents"
   ]
  },
  {
   "cell_type": "code",
   "execution_count": 7,
   "metadata": {},
   "outputs": [
    {
     "data": {
      "text/plain": [
       "[Document(page_content=' \\n \\n \\nInternal   \\n© Continental AG.  2023   CA 1014436  \\nVersion  02 Page 1 (14) \\nApproved  \\n Location  Sibiu, Remote functions  Standard  Network Security  \\nInternal   \\n \\n   \\nLocation  \\nStandard  \\nNetwork Security  \\n  \\n \\nResponsible Function  IT Infrastructure Team Leader  \\nOrganizational Scope    Location Sibiu  \\nReference (Superior Rule ) Continental Automotive InfoSec & CyberSec Community Wiki >  Continental \\nAutomotive Information & Cyber Security >  Policies, Manuals, Procedures and \\nMethods  \\nFurther relevant Rules  - \\nKey words  Security, Network , Checklist  \\nFunctional contact  IT Infrastructure Engineer  \\n  S-list Id. 16046461;    Decision date: 02 May 2023  09:22:53;    This document contains sensitive information;    Page: 1 of 15.', metadata={'source': 'conti_documents\\\\CA 1014436-02 SBZ Network Security .pdf', 'page': 0}),\n",
       " Document(page_content=' \\n \\n \\nInternal   \\n© Continental AG.  2023   CA 1014436  \\nVersion  02 Page 2 (14) \\nApproved  \\n Location  Sibiu, Remote functions  Standard  Network Security  \\nInternal  Table of Contents  \\n1 Scope of Content  ................................ ................................ ................................ ................................ ............  3 \\n2 Network Elements  ................................ ................................ ................................ ................................ ...........  3 \\n2.1 Passive LAN  ................................ ................................ ................................ ................................ ...........  3 \\n2.2 Active LAN  ................................ ................................ ................................ ................................ ..............  4 \\n2.3 WLAN  ................................ ................................ ................................ ................................ .....................  6 \\n2.4 WAN  ................................ ................................ ................................ ................................ .......................  7 \\n2.4.1  eWAN  ................................ ................................ ................................ ................................ .............  7 \\n2.4.2  ADAS WAN  ................................ ................................ ................................ ................................ .... 8 \\n2.5 Telephony  ................................ ................................ ................................ ................................ ...............  8 \\n3.1 LAN Management  ................................ ................................ ................................ ................................ ..............  8 \\n3.2 Security – Network Access Control  ................................ ................................ ................................ .................  10 \\nSubnets and VLANs  ................................ ................................ ................................ ................................ ...... 10 \\n2.5.1  Process performance indicators (KPIs)  ................................ ................................ .......................  12 \\n3 Application  ................................ ................................ ................................ ................................ .....................  12 \\n4 Miscellaneous  ................................ ................................ ................................ ................................ ...............  12 \\n4.1 References  ................................ ................................ ................................ ................................ ...........  12 \\n4.1.1  Mandatory  ................................ ................................ ................................ ................................ .... 12 \\n4.2 Definitions and Abbreviations  ................................ ................................ ................................ ...............  13 \\n5 Approval  ................................ ................................ ................................ ................................ ........................  14 \\n5.1 Definition and Review Team  ................................ ................................ ................................ ................  14 \\nDocument History  ................................ ................................ ................................ ................................ ..................  14 \\n \\n \\n \\n \\nAnnexes  \\n \\n- \\n    S-list Id. 16046461;    Decision date: 02 May 2023  09:22:53;    This document contains sensitive information;    Page: 2 of 15.', metadata={'source': 'conti_documents\\\\CA 1014436-02 SBZ Network Security .pdf', 'page': 1}),\n",
       " Document(page_content=' \\n \\n \\nInternal   \\n© Continental AG.  2023   CA 1014436  \\nVersion  02 Page 3 (14) \\nApproved  \\n Location  Sibiu, Remote functions  Standard  Network Security  \\nInternal  1 Scope of Content  \\nObjective:  This document describes layout, administration and security procedures of main network elements \\nand services.  \\nGoal:  Overview of network architecture, security and management process, description of categories and \\nservices: design, equipment (active and passive devices), provisioning, imp lementation and operation according \\nto guidelines and security policies; LAN concepts, devices and services.  \\nScope:  Location Sibiu  \\n2 Network Elements  \\nLAN is designed following the base ideas of performance , security  and scalability . \\nPassive LAN design (coppe r and optical fiber) follows Continental approved standards for equipment and \\nimplementation.  \\nActive LAN design is 3 tier architecture  (core, distribution, access) and is taking into consideration only approved \\nand standard equipment. Components of all net work layers are clustered . \\nDesign and LAN 3rd Level support is provided by Automotive Network and Voice Team (SLA Standard Support)  \\nImplementation of passive LAN is usually in responsibility of external supplier, but closely monitored by local IT \\nteam to assure compliance with Continental requirements.  \\nImplementation, operation, support and monitor of active LAN devices are the object of local “IT Infrastructure” \\nteam’s activity.  \\n2.1 Passive LAN  \\n \\n- ~10K copper ports, around 500 KM copper cable, 40 short -range and 15 long -range optical fiber \\nsegments  \\n- Standard Passive Networks manual, Krone and R&M materials, Cat6 certified (Cat7, Real10) measured \\nports  \\n- LAN extensions as a result of increased workplace density: state the need, request for quotation, \\nsupervise and approve works –> IT Infrastructure team  \\n- LAN extension as a result of cabling new building: agreed providers, standard passive components, \\ninstalled ports measurements, acceptance protocol  \\n- Patching – user support (workplace related activities):  local IT Workplace team  \\nFiber Optic Plan:  \\n   S-list Id. 16046461;    Decision date: 02 May 2023  09:22:53;    This document contains sensitive information;    Page: 3 of 15.', metadata={'source': 'conti_documents\\\\CA 1014436-02 SBZ Network Security .pdf', 'page': 2}),\n",
       " Document(page_content=' \\n \\n \\nInternal   \\n© Continental AG.  2023   CA 1014436  \\nVersion  02 Page 4 (14) \\nApproved  \\n Location  Sibiu, Remote functions  Standard  Network Security  \\nInternal   \\n \\n2.2 Active  LAN \\n \\n- design and plans (Level 3 support) are supervised and approved by Automotive Infrastructure Network \\nand Voice team  \\n- clustered active components (Access, Distribution, Core) and redundant paths for c onnectivity in \\nseparate fire zones  \\n- LAN is configured with SPBM (Shortest Path Bridging MAC – 802.1h MAC -in-MAC encapsulation). SPB \\nprovides shortest path forwarding using layer 2 to provide shortest path forwarding. SPB uses the IS -IS \\nprotocol operating at  layer 2 allowing for large networks with fast convergence, equal cost paths and \\neasy provisioning.  \\n- SPBM virtualized services are delineated by I -SIDs.  \\n- Improved security – Client VLAN captive  \\n- ~ 500 managed devices/systems (active LAN components)  \\n- 40G LAN core and distribution, 10G LAN access to clients, 10G LAN access to critical servers, Public \\nnetwork, MIS Storage network  \\n \\n \\nNetwork Architecture  \\nLAN 3 Tier Architecture (Core, Distribution, Access)  \\nClients (Shopfloor, Office, R&D) and Servers  \\n  S-list Id. 16046461;    Decision date: 02 May 2023  09:22:53;    This document contains sensitive information;    Page: 4 of 15.', metadata={'source': 'conti_documents\\\\CA 1014436-02 SBZ Network Security .pdf', 'page': 3}),\n",
       " Document(page_content=' \\n \\n \\nInternal   \\n© Continental AG.  2023   CA 1014436  \\nVersion  02 Page 5 (14) \\nApproved  \\n Location  Sibiu, Remote functions  Standard  Network Security  \\nInternal   \\nSPB\\nUSBPwr\\nStatus\\nUp\\nBaseDownRPS1 3 5 7 9 11\\n2 4 6 8 10 12 14 16 18 20 22 2413 15 17 19 21 23\\n26 28 30 32 34 3625 27 29 31 33 35\\n38 40 42 44 46 4837 39 41 43 45 47 49\\n5047\\n48Console4850GTS-PWR+\\nUSBPwr\\nStatus\\nUp\\nBaseDownRPS1 3 5 7 9 11\\n2 4 6 8 10 12 14 16 18 20 22 2413 15 17 19 21 23\\n26 28 30 32 34 3625 27 29 31 33 35\\n38 40 42 44 46 4837 39 41 43 45 47 49\\n5047\\n48Console4850GTS-PWR+\\nUSBPwr\\nStatus\\nUp\\nBaseDownRPS1 3 5 7 9 11\\n2 4 6 8 10 12 14 16 18 20 22 2413 15 17 19 21 23\\n26 28 30 32 34 3625 27 29 31 33 35\\n38 40 42 44 46 4837 39 41 43 45 47 49\\n5047\\n48Console4850GTS-PWR+\\nUSBPwr\\nStatus\\nUp\\nBaseDownRPS1 3 5 7 9 11\\n2 4 6 8 10 12 14 16 18 20 22 2413 15 17 19 21 23\\n26 28 30 32 34 3625 27 29 31 33 35\\n38 40 42 44 46 4837 39 41 43 45 47 49\\n5047\\n48Console4850GTS-PWR+\\nUSBPwr\\nStatus\\nUp\\nBaseDownRPS1 3 5 7 9 11\\n2 4 6 8 10 12 14 16 18 20 22 2413 15 17 19 21 23\\n26 28 30 32 34 3625 27 29 31 33 35\\n38 40 42 44 46 4837 39 41 43 45 47 49\\n5047\\n48Console4850GTS-PWR+\\nVSP 8404C\\nPWR RPS\\nFan Status\\nUSB\\nConsoleExtreme\\uf0d2\\nLink/Act 1 3 5 7 9 11 13 15 17 19 21 23\\n2 4 6 8 10 12 14 16 18 20 22 24In Use\\n8424XS\\nLink/Act 1 3 5 7 9 11 13 15 17 19 21 23\\n2 4 6 8 10 12 14 16 18 20 22 24In Use\\n8424XS\\nLink/Act 1 3 5 7\\n2 4 6 88408QQRSVD\\nRSVDO pt\\nLink/Act 1 3 5 7\\n2 4 6 88408QQRSVD\\nRSVDO pt\\nVSP 8404C\\nPWR RPS\\nFan Status\\nUSB\\nConsoleExtreme\\uf0d2\\nLink/Act 1 3 5 7 9 11 13 15 17 19 21 23\\n2 4 6 8 10 12 14 16 18 20 22 24In Use\\n8424XS\\nLink/Act 1 3 5 7 9 11 13 15 17 19 21 23\\n2 4 6 8 10 12 14 16 18 20 22 24In Use\\n8424XS\\nLink/Act 1 3 5 7\\n2 4 6 88408QQRSVD\\nRSVDO pt\\nLink/Act 1 3 5 7\\n2 4 6 88408QQRSVD\\nRSVDO pt\\nVSP 8404C\\nPWR RPS\\nFan Status\\nUSB\\nConsoleExtreme\\uf0d2\\nLink/Act 1 3 5 7\\n2 4 6 88418XT Q9 11 13 15\\n10 12 14 16Opt\\n1817 Link/Act Link/Act\\nLink/Act 1 3 5 7\\n2 4 6 88418XT Q9 11 13 15\\n10 12 14 16Opt\\n1817 Link/Act Link/Act\\nLink/Act 1 3 5 7 9 11 13 15 17 19 21 23\\n2 4 6 8 10 12 14 16 18 20 22 24In Use\\n8424XS\\nVSP 8404C\\nPWR RPS\\nFan Status\\nUSB\\nConsoleExtreme\\uf0d2\\nLink/Act 1 3 5 7\\n2 4 6 88418XT Q9 11 13 15\\n10 12 14 16Opt\\n1817 Link/Act Link/Act\\nLink/Act 1 3 5 7\\n2 4 6 88418XT Q9 11 13 15\\n10 12 14 16Opt\\n1817 Link/Act Link/Act\\nLink/Act 1 3 5 7 9 11 13 15 17 19 21 23\\n2 4 6 8 10 12 14 16 18 20 22 24In Use\\n8424XS\\nExtreme\\nConnect Bevond the Networks\\uf0d2\\n1\\n25\\n6USBPWR\\nStatus\\nRPS\\nFAN\\nLink/Act Link/Act In UseVSP 7254XSQ\\n21\\nLink/Act 4 6 8 10 12 14 16 18 20 22 24 26 28 30 32 34 36 38 40 42 44 46 48\\nExtreme\\nConnect Bevond the Networks\\uf0d2\\n1\\n25\\n6USBPWR\\nStatus\\nRPS\\nFAN\\nLink/Act Link/Act In UseVSP 7254XSQ\\n21\\nLink/Act 4 6 8 10 12 14 16 18 20 22 24 26 28 30 32 34 36 38 40 42 44 46 48\\nExtreme\\nConnect Bevond the Networks\\uf0d2\\n1\\n25\\n6USBPWR\\nStatus\\nRPS\\nFAN\\nLink/Act Link/Act In UseVSP 7254XSQ\\n21\\nLink/Act 4 6 8 10 12 14 16 18 20 22 24 26 28 30 32 34 36 38 40 42 44 46 48\\nExtreme\\nConnect Bevond the Networks\\uf0d2\\n1\\n25\\n6USBPWR\\nStatus\\nRPS\\nFAN\\nLink/Act Link/Act In UseVSP 7254XSQ\\n21\\nLink/Act 4 6 8 10 12 14 16 18 20 22 24 26 28 30 32 34 36 38 40 42 44 46 48\\nExtreme\\nConnect Bevond the Networks\\uf0d2\\nPWR\\nStatus\\nRPS\\nUP\\nDown\\nBaseUSB\\nResetSpeed/PoE+Speed/PoE+\\nLink/ActLink/Act Link/Act\\nLink/Act Speed/PoE+Speed/PoE+ Link/Act\\nLink/Act Speed/PoE+Speed/PoE+ Link/Act\\nLink/Act Speed/PoE+Speed/PoE+ 1 3 5 7 9 11\\n12 10 8 6 4 213 15 17 19 21 23\\n24 22 20 18 16 1425 27 29 31 33 35\\n36 34 32 30 28 2637 39 41 43 45 47\\n48 46 44 42 40 38 5049 Rx Tx\\nSFP+4950GTS\\nExtreme\\nConnect Bevond the Networks\\uf0d2\\nPWR\\nStatus\\nRPS\\nUP\\nDown\\nBaseUSB\\nResetSpeed/PoE+Speed/PoE+\\nLink/ActLink/Act Link/Act\\nLink/Act Speed/PoE+Speed/PoE+ Link/Act\\nLink/Act Speed/PoE+Speed/PoE+ Link/Act\\nLink/Act Speed/PoE+Speed/PoE+ 1 3 5 7 9 11\\n12 10 8 6 4 213 15 17 19 21 23\\n24 22 20 18 16 1425 27 29 31 33 35\\n36 34 32 30 28 2637 39 41 43 45 47\\n48 46 44 42 40 38 5049 Rx Tx\\nSFP+4950GTS\\nExtreme\\nConnect Bevond the Networks\\uf0d2\\nPWR\\nStatus\\nRPS\\nUP\\nDown\\nBaseUSB\\nResetSpeed/PoE+Speed/PoE+\\nLink/ActLink/Act Link/Act\\nLink/Act Speed/PoE+Speed/PoE+ Link/Act\\nLink/Act Speed/PoE+Speed/PoE+ Link/Act\\nLink/Act Speed/PoE+Speed/PoE+ 1 3 5 7 9 11\\n12 10 8 6 4 213 15 17 19 21 23\\n24 22 20 18 16 1425 27 29 31 33 35\\n36 34 32 30 28 2637 39 41 43 45 47\\n48 46 44 42 40 38 5049 Rx Tx\\nSFP+4950GTS\\nExtreme\\nConnect Bevond the Networks\\uf0d2\\nPWR\\nStatus\\nRPS\\nUP\\nDown\\nBaseUSB\\nResetSpeed/PoE+Speed/PoE+\\nLink/ActLink/Act Link/Act\\nLink/Act Speed/PoE+Speed/PoE+ Link/Act\\nLink/Act Speed/PoE+Speed/PoE+ Link/Act\\nLink/Act Speed/PoE+Speed/PoE+ 1 3 5 7 9 11\\n12 10 8 6 4 213 15 17 19 21 23\\n24 22 20 18 16 1425 27 29 31 33 35\\n36 34 32 30 28 2637 39 41 43 45 47\\n48 46 44 42 40 38 5049 Rx Tx\\nSFP+4950GTS\\nExtreme\\nConnect Bevond the Networks\\uf0d2\\nPWR\\nStatus\\nRPS\\nUP\\nDown\\nBaseUSB\\nResetSpeed/PoE+Speed/PoE+\\nLink/ActLink/Act Link/Act\\nLink/Act Speed/PoE+Speed/PoE+ Link/Act\\nLink/Act Speed/PoE+Speed/PoE+ Link/Act\\nLink/Act Speed/PoE+Speed/PoE+ 1 3 5 7 9 11\\n12 10 8 6 4 213 15 17 19 21 23\\n24 22 20 18 16 1425 27 29 31 33 35\\n36 34 32 30 28 2637 39 41 43 45 47\\n48 46 44 42 40 38 5049 Rx Tx\\nSFP+4950GTS\\nExtreme\\nConnect Bevond the Networks\\uf0d2\\nPWR\\nStatus\\nRPS\\nUP\\nDown\\nBaseUSB\\nResetSpeed/PoE+Speed/PoE+\\nLink/ActLink/Act Link/Act\\nLink/Act Speed/PoE+Speed/PoE+ Link/Act\\nLink/Act Speed/PoE+Speed/PoE+ Link/Act\\nLink/Act Speed/PoE+Speed/PoE+ 1 3 5 7 9 11\\n12 10 8 6 4 213 15 17 19 21 23\\n24 22 20 18 16 1425 27 29 31 33 35\\n36 34 32 30 28 2637 39 41 43 45 47\\n48 46 44 42 40 38 5049 Rx Tx\\nSFP+4950GTS\\nSpeedSpeed\\nLink/ActLink/Act Link/Act\\nLink/Act SpeedSpeed Link/Act\\nLink/Act SpeedSpeed Link/Act\\nLink/Act SpeedSpeed 1 3 5 7 9 11\\n12 10 8 6 4 213 15 17 19 21 23\\n24 22 20 18 16 1425 27 29 31 33 35\\n36 34 32 30 28 2637 39 41 43 45 47\\n48 46 44 42 40 38 5049Rx Tx\\nSFP+ 5251Rx Tx\\nSFP+ResetExtreme\\uf0d2\\nUp\\nDown\\nBase\\nStatus\\nUS B\\nFan 1\\nPS  12\\n2 R5952 GTS\\nSpeedSpeed\\nLink/ActLink/Act Link/Act\\nLink/Act SpeedSpeed Link/Act\\nLink/Act SpeedSpeed Link/Act\\nLink/Act SpeedSpeed 1 3 5 7 9 11\\n12 10 8 6 4 213 15 17 19 21 23\\n24 22 20 18 16 1425 27 29 31 33 35\\n36 34 32 30 28 2637 39 41 43 45 47\\n48 46 44 42 40 38 5049Rx Tx\\nSFP+ 5251Rx Tx\\nSFP+ResetExtreme\\uf0d2\\nUp\\nDown\\nBase\\nStatus\\nUS B\\nFan 1\\nPS  12\\n2 R5952 GTS\\nSpeedSpeed\\nLink/ActLink/Act Link/Act\\nLink/Act SpeedSpeed Link/Act\\nLink/Act SpeedSpeed Link/Act\\nLink/Act SpeedSpeed 1 3 5 7 9 11\\n12 10 8 6 4 213 15 17 19 21 23\\n24 22 20 18 16 1425 27 29 31 33 35\\n36 34 32 30 28 2637 39 41 43 45 47\\n48 46 44 42 40 38 5049Rx Tx\\nSFP+ 5251Rx Tx\\nSFP+ResetExtreme\\uf0d2\\nUp\\nDown\\nBase\\nStatus\\nUS B\\nFan 1\\nPS  12\\n2 R5952 GTS\\nSpeedSpeed\\nLink/ActLink/Act Link/Act\\nLink/Act SpeedSpeed Link/Act\\nLink/Act SpeedSpeed Link/Act\\nLink/Act SpeedSpeed 1 3 5 7 9 11\\n12 10 8 6 4 213 15 17 19 21 23\\n24 22 20 18 16 1425 27 29 31 33 35\\n36 34 32 30 28 2637 39 41 43 45 47\\n48 46 44 42 40 38 5049Rx Tx\\nSFP+ 5251Rx Tx\\nSFP+ResetExtreme\\uf0d2\\nUp\\nDown\\nBase\\nStatus\\nUS B\\nFan 1\\nPS  12\\n2 R5952 GTS\\nSpeedSpeed\\nLink/ActLink/Act Link/Act\\nLink/Act SpeedSpeed Link/Act\\nLink/Act SpeedSpeed Link/Act\\nLink/Act SpeedSpeed 1 3 5 7 9 11\\n12 10 8 6 4 213 15 17 19 21 23\\n24 22 20 18 16 1425 27 29 31 33 35\\n36 34 32 30 28 2637 39 41 43 45 47\\n48 46 44 42 40 38 5049Rx Tx\\nSFP+ 5251Rx Tx\\nSFP+ResetExtreme\\uf0d2\\nUp\\nDown\\nBase\\nStatus\\nUS B\\nFan 1\\nPS  12\\n2 R5952 GTS\\nSpeedSpeed\\nLink/ActLink/Act Link/Act\\nLink/Act SpeedSpeed Link/Act\\nLink/Act SpeedSpeed Link/Act\\nLink/Act SpeedSpeed 1 3 5 7 9 11\\n12 10 8 6 4 213 15 17 19 21 23\\n24 22 20 18 16 1425 27 29 31 33 35\\n36 34 32 30 28 2637 39 41 43 45 47\\n48 46 44 42 40 38 5049Rx Tx\\nSFP+ 5251Rx Tx\\nSFP+ResetExtreme\\uf0d2\\nUp\\nDown\\nBase\\nStatus\\nUS B\\nFan 1\\nPS  12\\n2 R5952 GTS\\nSpeedSpeed\\nLink/ActLink/Act Link/Act\\nLink/Act SpeedSpeed Link/Act\\nLink/Act SpeedSpeed Link/Act\\nLink/Act SpeedSpeed 1 3 5 7 9 11\\n12 10 8 6 4 213 15 17 19 21 23\\n24 22 20 18 16 1425 27 29 31 33 35\\n36 34 32 30 28 2637 39 41 43 45 47\\n48 46 44 42 40 38 5049Rx Tx\\nSFP+ 5251Rx Tx\\nSFP+ResetExtreme\\uf0d2\\nUp\\nDown\\nBase\\nStatus\\nUS B\\nFan 1\\nPS  12\\n2 R5952 GTS\\nSpeedSpeed\\nLink/ActLink/Act Link/Act\\nLink/Act SpeedSpeed Link/Act\\nLink/Act SpeedSpeed Link/Act\\nLink/Act SpeedSpeed 1 3 5 7 9 11\\n12 10 8 6 4 213 15 17 19 21 23\\n24 22 20 18 16 1425 27 29 31 33 35\\n36 34 32 30 28 2637 39 41 43 45 47\\n48 46 44 42 40 38 5049Rx Tx\\nSFP+ 5251Rx Tx\\nSFP+ResetExtreme\\uf0d2\\nUp\\nDown\\nBase\\nStatus\\nUS B\\nFan 1\\nPS  12\\n2 R5952 GTS\\nSUSW DSF204\\nVSP7254 XSQ\\nMgmt : 172.27.77.6\\nSUSW DSF111\\nVSP7254 XSQ\\nMgmt : 172.27.77.5\\nSUSW CSR421\\nVSP8404\\nMgmt : 172.27.77.2SUSW CSR201\\nVSP8404\\nMgmt : 172.27.77.3SUSW DOF111\\nVSP8404\\nMgmt : 172.27.77.9SUSW DOF204\\nVSP8404\\nMgmt : 172.27.77.10\\nSUSW DECB11\\nVSP7254 XSQ\\nMgmt : 172.27.77.8\\nSUSW DECA 11\\nVSP7254 XSQ\\nMgmt : 172.27.77.7SUSW ASF161-1\\nERS4850\\nMgmt : 172.27.199.153\\nSUSW AECC07-1\\nERS5952\\nMgmt : 172.27.199.237SUSW AOF112-2\\nERS4850\\nMgmt : 172.27.199.80\\nGi 3/1Gi 2/2\\nGi 3/2Gi 3/17\\nGi 3/3Gi 2/2\\nGi 3/6 Gi 3/6Gi 4/6Gi 4/6\\nvISTGi 4/1Gi 2/2\\nGi 4/2Gi 3/17\\nGi 4/3Gi 2/2\\nGi 3/1Gi 2/1\\nGi 3/2Gi 2/17\\nGi 3/3Gi 2/1Gi 2/1\\nGi 4/1Gi 4/2Gi 2/17\\nGi 4/3Gi 2/1Gi 2/5\\nGi 2/5Gi 2/6\\nGi 2/6Gi 2/18 Gi 2/18\\nGi 3/18 Gi 3/18\\nGi 2/5\\nGi 2/5Gi 2/6\\nGi 2/6vIST\\nvIST\\nvIST\\n40Gb40Gb\\n40Gb\\n40Gb40Gb40Gb\\n40Gb\\n40Gb40Gb\\n40Gb40Gb40Gb\\n40Gb40Gb40Gb\\n40Gb40Gb\\n40Gb\\n40Gb40Gb\\nSUSW ASR421-1\\nVSP7024 XLS\\nMgmt : 172.27.199.44SUSW ASR201-1\\nVSP7024 XLS\\nMgmt : 172.27.199.42Gi 1/12Gi 1/4\\nGi 1/24Gi 1/4\\nGi 1/24\\nGi 1/12Gi 1/2Gi 1/2\\n20Gb\\n20GbGi 1/10Gi 1/50Gi 3/50Gi 1/10\\nGi 1/33Gi 1/33\\nGi 5/50\\nGi 1/50Gi 3/12Gi 3/12Gi 3/50\\nGi 1/50\\n10Gb 10Gb\\n10Gb\\n10Gb10Gb\\n10Gb\\n \\n \\n \\nAdding new active devices in network:  \\n \\n 1.  establish the location (rack and position in rack) and the network name of the equipment  \\n 2.  reserve IP in DHCP server (QIP) in locatio n’s correspondent subnet  \\n 3. establish cable connection paths, patch -panel’s ports, provision and label correct patch -cords \\n   and power cables  \\n 4.  configure spbm instance, configure uplink ports/isis and VLANs/I -SID on the new device and \\ncheck/config po rts (STP, VLAN, I -SID, IP, DHCP RELAY, VRRP) on the Building/Server Core Switch (both IST \\npartners!)  \\n 5.  configure Security (CLI,SSH, SNMPv3) and Monitoring (syslog, sFlow) on the new device  \\n 6.  add new device to monitoring systems (NagiosXI, XMC/backup)  \\n 7.  mount new device in rack and make connections (uplinks, stacking, power)    S-list Id. 16046461;    Decision date: 02 May 2023  09:22:53;    This document contains sensitive information;    Page: 5 of 15.', metadata={'source': 'conti_documents\\\\CA 1014436-02 SBZ Network Security .pdf', 'page': 4}),\n",
       " Document(page_content=' \\n \\n \\nInternal   \\n© Continental AG.  2023   CA 1014436  \\nVersion  02 Page 6 (14) \\nApproved  \\n Location  Sibiu, Remote functions  Standard  Network Security  \\nInternal  8.  create image / ‘save config’ to the configuration central repository (IT folder structure/Central \\nservers – automatically with XMC – Extreme Management Centers)  \\n 9.  Add the network equipment in XMC Management tool, Nagios XI  (for Monitoring) , HPAM (I4.0 , \\nfor Inventory ) \\n  \\n \\nNaming convention  \\n1.Room name  -  MXSR  / XECYSW  \\n \\nEx.  M4SR  Module Production number = M4   Room Type = SR (Data Center)  \\n     1EC0SW  EC number = 1  Module name = EC  Floor = 0  Room Type = SW (Distribution Room)  \\n \\n2.Rack name  -  SURKMXYZ / SURKXECYZ   \\n \\nEx.  SURKM421   SU = Location Sibiu    RK = Rack M4 = Module name  2 = Row Number 1 = Nr in Row  \\nEx.  SURKAEC21   SU = Location Sibiu    RK = Rack A = EC Number  EC = Engineer Center  2 = Row Number \\n1 = Nr in Row  \\n \\n3.Swi tch name  -  SUSWASFXYZ (B) \\n \\nEx.  SUSWAOF112-1   SU = Location Sibiu   SW = Function (Switch) A = Access Switch(Tier Level)  OF = Area \\nwhich it serves (Office) 1 = Module number 1 = Row Number 2 = Nr in Row 1 = Stack number in rack  \\n \\n2.3 WLAN  \\n \\n- HA SSO Cisco Wireless Controller 5520 (20Gbps uplinks ), around 3 50 APs AIR -AP4800 (PoE)  and \\nCatalyst 9130AX(wifi 6)  \\n- authentication 802.1x PEAP  - WLAN -G6 / WLAN -G7, centralized authorization – local RADIUS server  \\n(2x Cisco ISE ), Secure Encryption – WPA2 +WPA3 /CCPM128( AES) \\n- authentication WPA/AES -TKIP, WPA2/AES with MAC filtering for WLAN -G8, WLAN -G5IE  \\n- management and monitoring: Configuration and Management with Cisco GUI and Cisco Prime \\nInfrastructure, alerting with NagiosXI    S-list Id. 16046461;    Decision date: 02 May 2023  09:22:53;    This document contains sensitive information;    Page: 6 of 15.', metadata={'source': 'conti_documents\\\\CA 1014436-02 SBZ Network Security .pdf', 'page': 5}),\n",
       " Document(page_content=' \\n \\n \\nInternal   \\n© Continental AG.  2023   CA 1014436  \\nVersion  02 Page 7 (14) \\nApproved  \\n Location  Sibiu, Remote functions  Standard  Network Security  \\nInternal   \\n \\n2.4   WAN  \\n2.4.1  eWAN  \\n \\n- 2x eWAN routers – Cisco ASR1002 -HX \\n- 2x MPLS Line, active -passive, 300Mbps  \\n- VPN Tunnels for traffic separation: INET and MPLS  \\n- 2x SIA Line, activ e-passive, 1000Mbps, 1000Mbps  \\no SIA service (local Proxy)  \\n- 2x INET Line, active -passive, 1000Mbps, 1000Mbps  \\n- Intrusion Prevention System in -place  \\n \\n  S-list Id. 16046461;    Decision date: 02 May 2023  09:22:53;    This document contains sensitive information;    Page: 7 of 15.', metadata={'source': 'conti_documents\\\\CA 1014436-02 SBZ Network Security .pdf', 'page': 6}),\n",
       " Document(page_content=' \\n \\n \\nInternal   \\n© Continental AG.  2023   CA 1014436  \\nVersion  02 Page 8 (14) \\nApproved  \\n Location  Sibiu, Remote functions  Standard  Network Security  \\nInternal  2.4.2  ADAS WAN  \\n- Separate lines for ADAS traffic  \\n- 2x last mile service providers (RDS, Telekom ) with 2 separate entry points  for HA , Optical Fiber  \\n \\n \\n \\n2.5 Telephony  \\n \\n- PBX and VoIP LAN Stacks on  Datacenter  UPS \\n- 3CX IP PBX, SIP  Trunks  \\n \\nLAN Management  and Security  \\n3 LAN Management  \\n-  XMC (Extreme Management Center):  \\n- LDAP Authentication – access only with  specific A ctive Directory Administrative  Account  \\n- Role based authentication  \\n \\n  S-list Id. 16046461;    Decision date: 02 May 2023  09:22:53;    This document contains sensitive information;    Page: 8 of 15.', metadata={'source': 'conti_documents\\\\CA 1014436-02 SBZ Network Security .pdf', 'page': 7}),\n",
       " Document(page_content=' \\n \\n \\nInternal   \\n© Continental AG.  2023   CA 1014436  \\nVersion  02 Page 9 (14) \\nApproved  \\n Location  Sibiu, Remote functions  Standard  Network Security  \\nInternal   \\n \\nDaily Backup for network devices with  XMC  \\n \\n \\nSyslog Server – XMC  and Corporate Syslog Servers  \\n \\n \\n- Support for planning, sourcing, implementation from central network and voice team  \\n- L3 configuration, troubleshooting, monitoring by local IT with support from central IT  \\n- Support Contract: Avaya Next Business Day - parts replacement for core active components  \\n \\n \\n- role-based administration : Network Administrator and Network Operator  \\n- in-band management for Access switch -stacks – CLI and SNMPv3 - RW and RO access  \\n \\n- out-of-band management  for Core and Distribution switches  \\n  S-list Id. 16046461;    Decision date: 02 May 2023  09:22:53;    This document contains sensitive information;    Page: 9 of 15.', metadata={'source': 'conti_documents\\\\CA 1014436-02 SBZ Network Security .pdf', 'page': 8}),\n",
       " Document(page_content=' \\n \\n \\nInternal   \\n© Continental AG.  2023   CA 1014436  \\nVersion  02 Page 10 (14) \\nApproved  \\n Location  Sibiu, Remote functions  Standard  Network Security  \\nInternal   \\n- Network connection control  \\n- (CLI, SNMPv3, BPA)  \\n- VPN for Remote Access (Cisco VPN Client)  \\n- Security Patches  Process  \\n \\nCLI: \\nERS5928, ERS5952, ERS4950, ERS4850, ERS4548, VSP7024, ERS5600  \\nAuthorization via TACACS+  : Cisco ISE acts as TACACS Server  \\nAuthentication with Active Directory Administrator Account on Access Switches  \\n \\nERS84 04, ERS7254 Special Access  \\nObed      | role read -write  \\n \\nSNMPv3  \\nobed      service    RW    - for Conti Sibiu(XMC)  \\nfelix       spport      RW    - for FelixTelecom  \\nsaddoc  helper      RW     - for Conti Competence Center  \\nmonitor   monitor    RO      - for Co nti Sibiu Monitoring  \\n \\n- Extreme Management center: https://suas 210-vm:8443  \\n- Cisco Wireless Management System: https://172.27.199.20  \\n- Cisco Prime Infrastructure: https://suas189 -vm \\n \\n4 Security – Network Access Control  \\nExtreme Control tool from Extreme Networks  \\n- 802.1x authentication  for capable devices  \\n- MAB  (MAC Authentication Bypass) for devices which  are not capable for 802.1x   \\n- Automatic VLAN  Assignment: Rules, Profiles, Policies  \\n- Access to network is controlled by Extreme Control tool  \\n- Quarantine VLAN  \\n5 Network segmentation  \\n5.1 Subnets and VLANs  \\nSegmentation is implemented as a mapping between class “C” IP subnets and VLANs: every subnet has  an \\nassociated VLAN and is distributed according topology.  \\nThis separation is between office workplaces (where development engineers are sitting) and hosts on production \\nlines.  \\n2 x Segmentation Firewalls – Cisco Firepowe r 4115Threat Defense  \\nPublic network  is re-organized  in according with new cybersecurity rules.  \\nTwo I mportant categories: Trusted and Untrusted devices and are separate d by firewall, untrusted  devices are \\nbehind firewall and there are configured more than 6 500 ACLs.    S-list Id. 16046461;    Decision date: 02 May 2023  09:22:53;    This document contains sensitive information;    Page: 10 of 15.', metadata={'source': 'conti_documents\\\\CA 1014436-02 SBZ Network Security .pdf', 'page': 9}),\n",
       " Document(page_content=' \\n \\n \\nInternal   \\n© Continental AG.  2023   CA 1014436  \\nVersion  02 Page 11 (14) \\nApproved  \\n Location  Sibiu, Remote functions  Standard  Network Security  \\nInternal  ACLs are managed with FMC – Firewall Management Center  \\n \\n5.2 Trusted Devices  \\n \\n \\n \\n5.3 Untrusted Devices  \\n \\n \\n \\n  S-list Id. 16046461;    Decision date: 02 May 2023  09:22:53;    This document contains sensitive information;    Page: 11 of 15.', metadata={'source': 'conti_documents\\\\CA 1014436-02 SBZ Network Security .pdf', 'page': 10}),\n",
       " Document(page_content=' \\n \\n \\nInternal   \\n© Continental AG.  2023   CA 1014436  \\nVersion  02 Page 12 (14) \\nApproved  \\n Location  Sibiu, Remote functions  Standard  Network Security  \\nInternal  6 Process performance indicators (KPIs)  \\nReaction Time (Prio3) - S6_Network_Operations       93.00%  \\nResolution Time (Prio3) - S6_Network_Operations       93.00%  \\n \\n\"Critical Systems Availability  LAN (Network CLI Access, Distribution, Core, SRV_Access)\"  99.95%  \\n\"Critical Systems Availability  WAN access (CIAS, iNET, MPLS)\"      99.95%  \\n\"TC_Traffic_Filtering  - Project Performance\"        100.00%  \\n\"VB_Networks_Access_Control  - Project Performance\"       100.00%  \\n \\nKPI’s are monitored within “ IT_TargetMatrix ” located in  “IT Management Teams ” channel . \\n \\n7 Application  \\nThe implementation of the present rule starts with 1st of May  2023. \\n8 Miscellaneous  \\n8.1 References  \\n8.1.1  Mandatory  \\nContinental Automotive InfoSec & CyberSec Community Wiki >  Continental Automotive Information & Cyber Security \\n> Policies, Manuals, Procedures and Methods  \\nNetwork Security Checklist:  \\nhttps://intranet.conti.de/resource/blob/1126462/b5b3bef9151f88ef169361d4b8bdaa52/network -security -\\nchecklist -data.xlsx  \\n \\nWAN Security Guide (conti.de)    S-list Id. 16046461;    Decision date: 02 May 2023  09:22:53;    This document contains sensitive information;    Page: 12 of 15.', metadata={'source': 'conti_documents\\\\CA 1014436-02 SBZ Network Security .pdf', 'page': 11}),\n",
       " Document(page_content=' \\n \\n \\nInternal   \\n© Continental AG.  2023   CA 1014436  \\nVersion  02 Page 13 (14) \\nApproved  \\n Location  Sibiu, Remote functions  Standard  Network Security  \\nInternal  8.2 Definitions and Abbreviations  \\n \\n  S-list Id. 16046461;    Decision date: 02 May 2023  09:22:53;    This document contains sensitive information;    Page: 13 of 15.', metadata={'source': 'conti_documents\\\\CA 1014436-02 SBZ Network Security .pdf', 'page': 12}),\n",
       " Document(page_content=' \\n \\n \\nInternal   \\n© Continental AG.  2023   CA 1014436  \\nVersion  02 Page 14 (14) \\nApproved  \\n Location  Sibiu, Remote functions  Standard  Network Security  \\nInternal  9 Approval  \\neSign: 16046461  \\nName  Function / Department  Location  \\nGeorge Talpos  Manufacturing  Project Leader  (Local IT \\nSecurity Advisor)  Sibiu  \\nCosmin Sideras  Head of Plant Industrial Engineering. Head \\nof Information Technology. Head of Plant \\nCBS Coaching  Sibiu  \\nCamelia Colceriu  RD QMS Team Leader  Sibiu  \\nLarisa Jecan  Plant QMS Team Leader  Sibiu  \\nIoana Bujor  RD Q MS Specialist  Sibiu  \\nAndreea Unguroiu  Plant QMS Specialist  Sibiu  \\n \\n9.1 Definition and Review Team  \\nThe members of the Review Team have reviewed the rule and their feedback has been considered. The \\nResponsible Function keeps records about the review.  \\nDefinition Team  \\nName  Function / Department  Location  \\nAndreea Unguroiu  Plant QMS Specialist  Sibiu  \\n \\nReview Team (Cooperation with affected organizational units)  \\nName  Function / Department  Location  \\nVirgil Berghian  IT Infrastructure Team Leader  Sibiu  \\n \\nDocument History  \\n \\nVersion  Responsible Function  Details  Effective  \\n1 IT Infrastructure Team \\nLeader  First edition  \\n(former local IT rule)  12/1/2021  \\n2 IT Infrastructure Team \\nLeader  Change the scope  05/01/2023  \\n   S-list Id. 16046461;    Decision date: 02 May 2023  09:22:53;    This document contains sensitive information;    Page: 14 of 15.', metadata={'source': 'conti_documents\\\\CA 1014436-02 SBZ Network Security .pdf', 'page': 13}),\n",
       " Document(page_content=' \\nS-list Id: 16046461 Creation date: 21 Apr 2023  10:24:11\\nS-list file: CA 1014436-02 SBZ Network Security\\n.pdfLast action date: 02 May 2023  09:22:53\\nStatus: APPROVED Duration: 11\\nGroup: QMS Plant Sibiu Category: Standard Procedure\\nSensitive information: Yes\\nRetention time: 30 years\\nExplanation: New Scope after SHAPE\\nInitiator name: Berghian Virgil Initiator email: virgil.berghian@continental-\\ncorporation.com\\nInitiator department: A AN O SIB IT FIX Initiator login name: auto\\\\berghianv\\nSigner Function Set type/name Decision S-list comments\\nTalpos George-Alexandru (A\\nAN O SIB IT FIX)\\nauto\\\\uic49029-george-\\nalexandru.talpos@continental-\\ncorporation.comManufacturing Project Leader Individual signer Accept\\n25 Apr 2023  13:23:06\\n via eSign\\nSideras Cosmin (A AN O SIB\\nIE FIX)\\nauto\\\\siderasc-\\ncosmin.sideras@continental-\\ncorporation.comHead of Plant Industrial\\nEngineering. Head of InfIndividual signer Accept\\n27 Apr 2023  14:08:37\\n via eSign\\nColceriu Camelia (A SCT LM\\nSIB SAM VED ESS DE STO\\nP&R&D&VED&PSS NPF)\\nauto\\\\colceriuc-\\ncamelia.colceriu@continental-\\ncorporation.comRD QMS Team Leader Individual signer Accept\\n28 Apr 2023  13:44:49\\n via eSign\\nJecan Larisa-Loredana (A AN\\nO SIB Q)\\nauto\\\\uic08110-larisa-\\nloredana.jecan@continental-\\ncorporation.comPlant QMS Team Leader Individual signer Accept\\n29 Apr 2023  08:04:39\\n via eSign\\nBujor Ioana (A SCT LM SIB\\nSAM VED ESS DE STO\\nP&R&D&VED&PSS NPF)\\nauto\\\\uia41009-\\nioana.bujor@continental-\\ncorporation.comRD QMS Specialist Individual signer Accept\\n02 May 2023  09:20:44\\n via eSign\\nUnguroiu Andreea (A AN O\\nSIB Q)\\nauto\\\\uib09542-\\nandreea.unguroiu@continental\\n-corporation.comPlant QMS Specialist Individual signer Accept\\n02 May 2023  09:22:53\\n via eSign  S-list Id. 16046461;    Decision date: 02 May 2023  09:22:53;    This document contains sensitive information;    Page: 15 of 15.', metadata={'source': 'conti_documents\\\\CA 1014436-02 SBZ Network Security .pdf', 'page': 14})]"
      ]
     },
     "execution_count": 7,
     "metadata": {},
     "output_type": "execute_result"
    }
   ],
   "source": [
    "# loader = DirectoryLoader(database, glob=\"./*.txt\", loader_cls=TextLoader)\n",
    "loader = DirectoryLoader(database, glob=\"./*.pdf\", loader_cls=PyPDFLoader)\n",
    "\n",
    "documents = loader.load()\n",
    "documents\n"
   ]
  },
  {
   "cell_type": "markdown",
   "metadata": {},
   "source": [
    "##### Split the text into chunks"
   ]
  },
  {
   "cell_type": "code",
   "execution_count": 8,
   "metadata": {},
   "outputs": [
    {
     "data": {
      "text/plain": [
       "44"
      ]
     },
     "execution_count": 8,
     "metadata": {},
     "output_type": "execute_result"
    }
   ],
   "source": [
    "text_splitter = RecursiveCharacterTextSplitter(chunk_size=1000, chunk_overlap=300)\n",
    "docs = text_splitter.split_documents(documents)\n",
    "\n",
    "len(docs)"
   ]
  },
  {
   "cell_type": "markdown",
   "metadata": {},
   "source": [
    "#### Import the libraries to connect to Chroma database"
   ]
  },
  {
   "cell_type": "code",
   "execution_count": 9,
   "metadata": {},
   "outputs": [],
   "source": [
    "from langchain.vectorstores.chroma import Chroma\n",
    "from langchain.embeddings.sentence_transformer import SentenceTransformerEmbeddings"
   ]
  },
  {
   "cell_type": "code",
   "execution_count": 10,
   "metadata": {},
   "outputs": [],
   "source": [
    "embedding_function = SentenceTransformerEmbeddings(model_name=\"all-MiniLM-L6-v2\")\n"
   ]
  },
  {
   "cell_type": "markdown",
   "metadata": {},
   "source": [
    "##### Upload the text in chroma database"
   ]
  },
  {
   "cell_type": "code",
   "execution_count": 11,
   "metadata": {},
   "outputs": [
    {
     "name": "stdout",
     "output_type": "stream",
     "text": [
      "conti\n"
     ]
    },
    {
     "data": {
      "text/plain": [
       "'conti-database'"
      ]
     },
     "execution_count": 11,
     "metadata": {},
     "output_type": "execute_result"
    }
   ],
   "source": [
    "import re\n",
    "\n",
    "text = \"conti_documents\"\n",
    "result = re.search(r'(?P<word>\\w+)_', text)\n",
    "\n",
    "if result:\n",
    "    extracted_word = result.group('word')\n",
    "    print(extracted_word)\n",
    "\n",
    "database_name = extracted_word+\"-database\"\n",
    "database_name"
   ]
  },
  {
   "cell_type": "code",
   "execution_count": 11,
   "metadata": {},
   "outputs": [],
   "source": [
    "db2 = Chroma.from_documents(docs, embedding_function, persist_directory=database_name)"
   ]
  },
  {
   "cell_type": "code",
   "execution_count": null,
   "metadata": {},
   "outputs": [],
   "source": []
  },
  {
   "cell_type": "code",
   "execution_count": null,
   "metadata": {},
   "outputs": [],
   "source": []
  },
  {
   "cell_type": "code",
   "execution_count": null,
   "metadata": {},
   "outputs": [],
   "source": []
  }
 ],
 "metadata": {
  "kernelspec": {
   "display_name": "Python 3",
   "language": "python",
   "name": "python3"
  },
  "language_info": {
   "codemirror_mode": {
    "name": "ipython",
    "version": 3
   },
   "file_extension": ".py",
   "mimetype": "text/x-python",
   "name": "python",
   "nbconvert_exporter": "python",
   "pygments_lexer": "ipython3",
   "version": "3.11.3"
  },
  "orig_nbformat": 4
 },
 "nbformat": 4,
 "nbformat_minor": 2
}
