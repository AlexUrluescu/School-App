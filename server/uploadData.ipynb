{
 "cells": [
  {
   "cell_type": "markdown",
   "metadata": {},
   "source": [
    "## Upload personal data to database\n",
    "## ( the best version )"
   ]
  },
  {
   "cell_type": "markdown",
   "metadata": {},
   "source": [
    "#### Import the libraries to get the env variables"
   ]
  },
  {
   "cell_type": "code",
   "execution_count": 1,
   "metadata": {},
   "outputs": [],
   "source": [
    "import os\n",
    "from dotenv import load_dotenv"
   ]
  },
  {
   "cell_type": "code",
   "execution_count": 2,
   "metadata": {},
   "outputs": [],
   "source": [
    "load_dotenv()\n",
    "\n",
    "OPENAI_API_TYPE = \"azure\"\n",
    "OPENAI_API_VERSION = os.environ.get(\"OPENAI_API_VERSION\")\n",
    "OPENAI_API_KEY = os.environ.get(\"OPENAI_API_KEY\")\n",
    "OPENAI_API_BASE = os.environ.get(\"OPENAI_API_BASE\")\n",
    "OPENAI_API_VERSION = \"2023-03-15-preview\""
   ]
  },
  {
   "cell_type": "code",
   "execution_count": 3,
   "metadata": {},
   "outputs": [
    {
     "data": {
      "text/plain": [
       "'9ac347d13e834f288a2076ff9c7b418a'"
      ]
     },
     "execution_count": 3,
     "metadata": {},
     "output_type": "execute_result"
    }
   ],
   "source": [
    "OPENAI_API_KEY "
   ]
  },
  {
   "cell_type": "markdown",
   "metadata": {},
   "source": [
    "#### Set the name of the database"
   ]
  },
  {
   "cell_type": "code",
   "execution_count": 4,
   "metadata": {},
   "outputs": [],
   "source": [
    "database = \"./barack_obama_documents/\""
   ]
  },
  {
   "cell_type": "markdown",
   "metadata": {},
   "source": [
    "#### Import the libraries to get the text and split it in chunks"
   ]
  },
  {
   "cell_type": "code",
   "execution_count": 5,
   "metadata": {},
   "outputs": [],
   "source": [
    "from langchain.text_splitter import RecursiveCharacterTextSplitter, CharacterTextSplitter\n",
    "from langchain.document_loaders import TextLoader, DirectoryLoader, PyPDFLoader"
   ]
  },
  {
   "cell_type": "markdown",
   "metadata": {},
   "source": [
    "##### Get the text from the documents"
   ]
  },
  {
   "cell_type": "code",
   "execution_count": 6,
   "metadata": {},
   "outputs": [
    {
     "data": {
      "text/plain": [
       "[Document(page_content='On July 27, 2004, Illinois State Senator Barack Obama delivered the keynote speech at the Democratic \\nNational Convention. He said, “Tonight is a particular honor for me because, let’s face it, my presence on \\nthis stage is pretty unlikely.” When he finished his speech, the audience that listened with rapt attention \\nexcitedly waved their arms, hats, and signs, thrilled with what they had just heard. Afterward, those \\nwatching on television said that they had stood and cheered, many admitting they dance d. Some \\nwondered what had just happened. For many Democrats, the speech was electrifying and inspiring; for \\nthem, it was a joyful time. And those from the other side of the political aisle who watched and listened \\nhad to agree: this fresh face, this politi co, unknown to nearly everyone in the country outside of his \\nhome state of Illinois, had just delivered a remarkable speech. Many asked, who is this man and where \\ndid he come from? They asked why he was selected to deliver such an important speech at the \\nDemocratic National Convention at a time described by many as a very contentious time in U.S. politics. \\nIn the speech that evening —a speech that he wrote himself and delivered without the use of a \\nteleprompter —Barack Obama introduced himself by first descri bing his father, born and raised in a \\nsmall village in Kenya, and his paternal grandfather, a cook and domestic servant who, he said, had big \\ndreams for his son. He told the immense crowd that his father, through hard work and perseverance, \\nearned a schola rship to study in a magical place called America, which to his Kenyan countrymen was a \\nplace of freedom and opportunity. Barack told the excited crowd that July evening that his maternal \\ngrandfather worked on oil rigs and farms dur - ing the Depression and,  just after Pearl Harbor, joined the \\narmy, and that his grandmother, while raising their baby, worked on a bomber assembly line during the \\nwar. He described how his grandparents moved west from Kansas, seeking opportunities, ultimately \\nmoving to Hawaii. Th ey too, he said, had big dreams for their daughter. He said his parents met while \\nstudying at the University of Hawaii and that they shared not only an improbable love, but also an \\nabiding faith in the possibilities of this nation. Barack said that this co untry’s pride is based on a simple \\npremise, summed up in the Declaration of Independence, as “the true genius of America, a faith in the \\nsimple dreams of its people, the insistence on small miracles.” The speech that evening undeniably \\ncatapulted this stat e senator from Illinois onto the national political scene. If Americans hadn’t heard of \\nhim before, they certainly knew about him now. Barack Obama says that his story could take place only \\nin America. He often adds that, like his parents and grandparents,  anyone can achieve success through \\nhard work and scholarship. His story is filled with good fortune, hard work, and a very good education. It \\nis also a story of diversity of heritage that he is proud of —that is, after he came to understand and \\naccept it. In the United States, many political leaders throughout history have come from powerful \\nfamilies. For Barack Obama, this is far from the truth. His upbringing was in humble circumstances, and, \\nwhile he doesn’t fit any typical political mold, he is already considered by many to be one of the most \\ndynamic figures in U.S. politics. His oratory skills, direct style, and ability to communicate are often \\ncompared with those of Abraham Lincoln, John F. Kennedy, and Robert Kennedy. Barack Obama is truly \\na rising po litical star in the United States. With an African first name that means “blessed,” his name is \\noften mispronounced and sometimes ridiculed. However seemingly blessed, he states that he is meant \\nto serve and to lead, and perhaps someday be president of the  United States.  \\n \\nIn 1988, before moving to Boston to attend Harvard Law School, Barack made an important trip to \\nKenya. He felt he needed a break from his two and a half years as a community organizer in Chicago; \\nand, as he later answered his half brother Bernard when asked why he had finally come home, he said \\nthat he wasn’t sure why, but something had told him it was time. What he found in Africa was more ', metadata={'source': 'barack_obama_documents\\\\obama.pdf', 'page': 0}),\n",
       " Document(page_content='than just a simple connection to family. Rather, it was a pilgrimage for this young man who grew up \\nconflicted by his mixed race and by his father’s absence that came so early in his life.  Barack Obama \\nAfter traveling through Europe for three weeks, intending to see places he’d always heard about but had \\nnever seen, he realized he’d made a mistake in tou ring there first. Europe wasn’t a part of his heritage, \\nand he felt he was living as if he were someone else, lending an incompleteness to his own history. He \\nalso thought spending time in Europe before his trip to Africa might be an attempt to delay comin g to \\nterms with his father. When Barack was two, his father returned to Africa, leaving him and his mother in \\nHawaii. He hadn’t seen his father since he was 10 years old. With some relief at leaving Europe, and with \\nmore than a little nervousness at the pr ospect of facing a family history he knew very little about, he \\nflew from London to Nairobi, Kenya. Landing at the Kenyatta International Airport, his sister and aunt \\nwarmly greeted him and welcomed him home. His Aunt Zeituni told his half sister Auma, “Yo u take good \\ncare of Barry now. Make sure he doesn’t get lost again.” Barack was confused by this greeting, and \\nAuma explained that this was a common expression referring to someone who hasn’t been seen for a \\nwhile or to someone who has left and not been se en again; they’ve been lost, she said, even if people \\nknow where they are.2 For Barack, known as Barry to his family and friends until later in his life, a \\npilgrimage had begun. While in Kenya, Barack met members of his African family. He met his half sist ers, \\nhalf brothers, aunts, and cousins; he learned about his father and grandfather and what it meant to be \\nan Obama —as many throughout Kenya remembered Barack Sr. and Hussein Obama, Barack’s \\ngrandfather. To know more about his grandfather Hussein, Barack and his aunts, sister, and brothers \\nboarded a train to visit Granny, the third wife of Hussein Obama. The train, originally built by the British \\nbeginning in 1895, was part of a 600 -mile rail line from the city of Mombasa on the Indian Ocean to the \\neastern  shores of Lake Victoria. This trip was an important part of Barack’s pilgrimage in Africa, because \\nit would take him to what is known as “Home Squared,” the ancestral family home. Barack’s half sister \\nAuma and her brother Roy, Barack’s half brother, had v isited there many times. Auma told Barack that \\nhe would love Granny, adding that she had a wonderful sense of humor, something she said Granny \\nneeded after living with “The Terror,” her name for their grandfather. She said they called their \\ngrandfather tha t because he was so mean. Roy added that their grandfather would make them sit at the \\ntable for dinner, serve the food on china, like an Englishman, and if someone said the wrong thing or \\nused the wrong fork, he would hit them on the head with his stick. B arack’s Aunt Zeituni assured Barack \\nthat she had many good memories about her father; he was strict, yes, but he was well respected. \\nFamily History  Barack’s grandfather’s compound, in the village of Alego, was one of the largest in the \\narea. He was known to be an excellent farmer, and it was said he could make anything grow. Aunt \\nZeituni said that Hussein Obama had worked for the British during World War II, serving a captain in the \\nBritish army. After working as a cook for many years, he learned their far ming techniques and applied \\nthem to his own land. Auma suggested that if there were difficulties within the Obama family, they all \\nseemed to stem from Grandfather Hussein, saying he was the only person their father, Barack Sr., \\nfeared. To Barack, this seem ed right somehow, and if he could learn more, fit the pieces of the story \\ntogether, he thought everything might fall into place.3 Arriving at the village where Granny lived, Barack \\nfirst met his father’s two brothers, Yusuf and Sayid. Sayid, his father’s y oungest brother, said he had \\nheard many great things about his nephew and warmly welcomed him. There, in a compound with a \\nlow, rectangular house with a corrugated -iron roof and concrete walls and bougainvillea with red, pink, \\nand yellow flowers, a few chi ckens, and two cows beneath a mango tree, was what he came to know as \\n“Home Squared.” A large woman with a scarf on her head and wearing a flowered skirt came out of the \\nmain house. She had sparkling eyes and a face like his Uncle Sayid’s. “Halo!” she said . Speaking in Luo, ', metadata={'source': 'barack_obama_documents\\\\obama.pdf', 'page': 1}),\n",
       " Document(page_content='her African language, she said she had dreamed about the day when she would finally meet the son of \\nher son and that his coming had brought her great happiness. Welcoming him home, she gave Barack a \\nhug and led him into the house, where there were pictures of Barack’s father, his Harvard diploma, a \\npicture of his grandfather, and a picture of another grandmother, Akuma, his father’s mother. After \\nenjoying tea, Barack visited two graves at the edge of a cornfield. One had a plaque for his grandfather; \\nthe other was covered with tiles, but there was no plaque. Roy, Barack’s half brother, explained that for \\nsix years, there had been nothing to note who was buried there. For the rest of the day, Barack was \\nimmersed in the daily life of Granny’ s compound and the nearby village. Remembering each part of the \\nday, he said, “It wasn’t simply joy that I felt in each of these moments. Rather, it was a sense that \\neverything I was doing, every touch and breath and word, carried the full weight of my lif e; that a circle \\nwas beginning to close, so that I might finally recognize myself as I was, here, now, in one place.”4 It was \\nin Granny’s compound —where his grandfather had farmed and where members of his family still \\nworked the land —where he heard the sto ries. One day, in the shade of a mango tree, Barack asked \\nGranny to start at the beginning and tell him about his family. He said that, as Granny began to speak, \\nhe heard all his family’s voices run together, the Barack Obama sounds of three generations we re like a \\nstream and his questions like rocks in the water.5 Granny told Barack that his great -great grandfather \\ncleared his own land and became prosperous, with many cattle and goats. She said he had four wives \\nand many children, one of which was Barack’s  grandfather. Although the children didn’t attend school, \\nthey learned from their parents and elders of the tribe; the men learned how to herd and hunt, and the \\nwomen learned how to farm and cook. The legend of his grandfather, Granny said, was that he was  \\nrestless and would wander off for days; he was an herbalist, learning about plants that could cure and \\nheal. When he was still a boy, white men came to the area for the first time, and Onyango was curious \\nabout them. He left the farm for a few months, and  when he returned he was wearing clothes like the \\nwhite men —pants, shirts, and shoes on his feet, which made his family suspicious of him. He was \\nbanished by his own father and soon left, returning to the town of Kisumu, where he had lived and \\nworked for t he white people who had settled there. He learned to read and write and learned about \\nland titles and accounting. His skills made him valuable to the British. Because Africans in those days \\ncouldn’t ride the train, he walked to Nairobi, a twoweek trip on f oot, and began to work in a British \\nhousehold. He prospered in his job, which included preparing food and organizing the household. He \\nbecame popular among his employers and was able to save his wages to buy land and cattle in Kendu, \\nnot far from Granny’s land. On his land, Onyango built a hut, but it wasn’t like the traditional huts \\nnearby. Instead, it was kept spotlessly clean, and he insisted that people entering remove their shoes. As \\nwell, he ate his meals at a table, using a knife and fork. He insiste d that the food he ate be washed, and \\nhe bathed and washed his clothes every night. He was very strict about his property, but if asked, he \\nwould gladly give someone food, clothing, or money. If someone took something without asking, \\nhowever, he became ver y angry. His manners were considered strange by his neighbors. By this time, he \\nhadn’t married, and this too was unusual. At one point, he decided he needed to marry; however, \\nbecause of his high housekeeping standards, no woman could maintain his home as he demanded. After \\nseveral attempts at marriage, and after losing the precious dowries paid for women to be his wife, he \\nfound a woman who could live with him. After a few years, it was discovered that she could not bear \\nchildren, and even though this was typically grounds for divorce among the Luo tribe, she was allowed \\nto remain in the compound, living in a hut that was built for her. Barack’s grandfather was still living and \\nworking in Nairobi at this time, but he often returned to Kendu to visit his lan d. He decided he needed a \\nsecond wife and returned to Kendu to inquire about the women in the village. He chose a young girl ', metadata={'source': 'barack_obama_documents\\\\obama.pdf', 'page': 2}),\n",
       " Document(page_content='named Akumu, who was known for her great beauty. They had three children; the second child was \\nBarack’s father. Later, he married a gain; his third wife was Granny, who, at 16, married Onyango and \\nlived in Nairobi with him. Akumu, living with her children in Kendu, was very unhappy, and her spirit, \\naccording to Granny, was rebellious. She found her husband too demanding. He was strict with the \\nhousekeeping and with child rearing. Life became easier for his second wife when, at the start of World \\nWar II, Onyango went overseas with the British captain, as his cook. He traveled with the British forces \\nfor three years and, upon his return, brought home a gramophone and a picture of a woman he said he \\nhad married in Burma. By the age of 50, Onyango decided to leave the employ of the British and moved \\nto Alego, the land of his grandfather, leaving his farm in the village of Kendu. Because he h ad studied \\nBritish techniques and learned modern farming while in Nairobi, he put these methods to work on land \\nthat was mostly African bush. In less than a year, Onyango had enough crops to market. His grandfather \\nplanted the trees that Barack saw on Gran ny’s land. He built huts for his wives and children and built an \\noven for baking bread and cakes. He played music at night and provided beds and mosquito nets for the \\nchildren. He taught his neighbors about farming and medicines and was well respected by t hem. When \\nBarack Sr. was eight, his mother decided to leave her husband, leaving the children in Granny’s care. She \\nhad tried to leave several times before, always returning to her family home; always Onyango had \\ndemanded that she return. This time, Onyang o at first decided to let her go. However, because Granny \\nhad two children of her own, he went to Akumu’s family and demanded that his second wife be \\nreturned to care for their children. This time, the family refused because they had already accepted a \\ndow ry from another man whom Akumu had married; the two had left for Tanganyika. There was \\nnothing Onyango could do, and he told his third wife she was now the mother of all of his children. \\nSarah, Barack Sr.’s older sister, resented her father and remained lo yal to her mother. Barack Sr. had a \\ndifferent view and told everyone Granny was his mother. Granny told Barack that his grandfather \\ncontinued to be very strict with his children. He did not allow them to play outside the compound, \\nmostly because he felt th e other children were dirty and ill mannered. She added that when her \\nhusband was away, she would let them play as they wished, believing they needed to be children. By the \\ntime Barack Sr. was in his teens, life in Kenya was rapidly changing. Many Africans  had fought in the war, \\nand when they returned to their homeland, they were eager to use what they learned as fighters; \\nBarack Obama they were no longer satisfied with white rule. Many young Africans were influenced by \\ndiscussions about independence. Barac k’s grandfather was skeptical that talk about independence \\nwould lead to anything, and he thought Africans could never win against a white man’s army. He told his \\nson, “How can the African defeat the white man when he cannot even make his own bicycle?” He said \\nthat the African could never win against the white man because the black man wanted to work only with \\nhis own family or clan, while all white men worked to increase their power. He said that white men \\nworked together and nation and business were impor tant to them. He said that white men follow their \\nleaders and do not question orders, but black men think they know what is better for them. That is why, \\nhe said, the black man will always lose.6 Despite these opinions, government authorities detained \\nOnya ngo, declaring him a subversive and a supporter of those demanding independence. He was placed \\nin a detention camp and was later found innocent. When he returned home, after being in the camp for \\nsix months, he was very thin and had difficulty walking. He was ashamed of his appearance and his \\ndiminished capacity, and, from that time on, he appeared to be an old man, far from the vital man he \\nhad been prior to the false accusation. Granny told Barack that what his grandfather respected was \\nstrength and disci pline. And, despite learning many of the white man’s ways, he remained strict about \\nhis Luo traditions, which included respect for elders and for authority and order and custom in all his ', metadata={'source': 'barack_obama_documents\\\\obama.pdf', 'page': 3}),\n",
       " Document(page_content='affairs. She thought that was why he had rejected the Christian reli gion, saying that, for a brief time, he \\nhad converted to Christianity and even changed his name to Johnson. He couldn’t understand the ideas \\nof mercy toward enemies, she said, and then had converted to Islam, thinking its practices conformed \\nmore closely t o his beliefs.7 After several years, Barack Sr. moved away from his father’s home to work \\nin Mombassa. He later applied to universities in the United States. Onyango supported his son’s desire \\nto study abroad but had little money to support his efforts. Ba rack Sr. was accepted at the University of \\nHawaii, and, through a scholarship and monies he received from benefactors, the funds were raised for \\nhim to leave Africa. When he met Ann Dunham, Barack’s mother, he proposed marriage. Onyango \\ndisapproved of the marriage, feeling his son was not acting responsibly. He wrote to Barack Sr., “How \\ncan you marry this white woman when you have responsibilities at home? Will this woman return with \\nyou and live as a Luo woman? . . . Let the girl’s father come to my hut an d discuss the situation properly. \\nFor this is the affairs of elders, not children.” He also wrote to Barack’s grandfather, Stanley Dunham, \\nand said the same things.8 Onyango threatened to have Family History his son’s visa revoked. Despite \\nhis father’s opi nions, the marriage took place. When Barack Sr. returned to Kenya without his wife and \\nyoung son, Onyango wasn’t surprised and knew his predictions had come true. When Onyango died, \\nBarack Sr. returned to his father’s home to make arrangements for his buri al. At the end of Granny’s \\nstory, told in the shade of the mango tree, Barack asked her if there was anything left of his \\ngrandfather’s belongings. Sorting through the contents of an old trunk, he found a rust -colored book \\nabout the size of a passport. The  cover of the small book said: Domestic Servant’s Pocket Register, \\nIssued under the Authority of the Registration of Domestic Servant’s Ordinance, 1928, Colony and \\nProtectorate of Kenya. Inside were his grandfather’s left and right thumbprints. A preamble inside the \\nbook explained that the object of the book was to present a record of employment and to protect \\nemployers against the employment of those who were deemed unsuitable for work. The little book \\ndefined the term servant and stated that the book was to be carried by servants or they would be \\nsubject to fines or imprisonment if they were found without the document. Barack’s grandfather’s \\nname, Hussein II Onyango, his ordinance number, race, place of residence, sex, age, height, and physical \\nattributes were all listed. His employment history was listed as well as a review of his performance in \\neach capacity. Along with the little book was a stack of application -for-admission letters from Barack’s \\nfather, all addressed to universities in the United States . To Barack, this was his inheritance, the \\ndocuments about his grandfather, some letters describing his father, and all the stories he heard on his \\npilgrimage to Kenya. Stanley Dunham, Known as Gramps, and Madelyn “Toots” Dunham —Barack \\nObama’s Maternal Gra ndparents Barack Obama writes affectionately about his maternal grandparents \\nthroughout his book Dreams from My Father. From the time he was born until he left for college in \\nCalifornia, Barack frequently lived with his mother’s parents, and they had an im measurable influence \\non him. Madelyn, or Toots, a derivation of Tutu, the Hawaiian name for grandparent, grew up in Kansas. \\nHer heritage included Cherokee and Scottish and English ancestors who homesteaded on the Kansas \\nprairie. Stanley also grew up in Kan sas, in a town less than 20 miles from Madelyn. In his book, Barack \\nwrites that they recalled their childhoods in small -town Depression -era America, complete with Fourth \\nof July parades, fireflies, dust storms, hailstorms, and classrooms filled with farm b oys.9 They frequently \\nspoke about Barack Obama respectability, saying that you didn’t have to be rich to be respectable. \\nMadelyn’s family, he wrote, were hardworking, decent people. Her father had a job throughout the \\nDepression. Her mother, a teacher prio r to having a family, kept the home spotless and ordered books \\nthrough the mail. Stanley’s parents were Baptists, and his mother committed suicide when Stanley was \\neight years old. Known to be a bit wild in his youth, Stanley was thrown out of high school for punching ', metadata={'source': 'barack_obama_documents\\\\obama.pdf', 'page': 4}),\n",
       " Document(page_content='the principal in the nose. For the next three years, he did odd jobs and often rode the rail lines around \\nthe country. Winding up in Wichita, Kansas, he met Madelyn, after she moved there with her family. Her \\nparents didn’t approve of their co urtship. Barack describes his grandfather in the days before World War \\nII as cutting a dashing figure, wearing baggy pants and a starched undershirt and a brimmed hat cocked \\nback on his head. He describes his grandmother as a smart -talking girl with too mu ch red lipstick, dyed \\nblond hair, and legs that could model hosiery for the department store.10 Madelyn and Stanley eloped \\njust prior to the attack at Pearl Harbor. Stanley enlisted in the army and, while he was posted at an army \\nbase, Barack’s mother Ann was born. Madelyn went to work on a bomber plane assembly line. After the \\nwar, the family moved to California, where Stanley enrolled at the University of California, Berkeley, \\nusing the benefits of the GI bill. After a time, Stanley realized that being in  a classroom wasn’t right for \\nhim, and the family moved back to Kansas, then to Texas, and finally to Seattle, where Stanley worked as \\na furniture salesman and where Ann finished high school. Ann was offered early admission to the \\nUniversity of Chicago; ho wever, Stanley forbade her to go, believing she was too young to live on her \\nown. At about this same time, the manager of the furniture company mentioned that a new store was \\nabout to open in Honolulu, Hawaii. He said that the opportunities seemed endless there, because \\nstatehood was imminent. The Dunhams sold their home in Seattle and moved again. Stanley worked as \\na furniture salesman, and Madelyn began working as a secretary at a local bank. Eventually, she became \\nthe first woman vice president at the ba nk ', metadata={'source': 'barack_obama_documents\\\\obama.pdf', 'page': 5})]"
      ]
     },
     "execution_count": 6,
     "metadata": {},
     "output_type": "execute_result"
    }
   ],
   "source": [
    "# loader = DirectoryLoader(database, glob=\"./*.txt\", loader_cls=TextLoader)\n",
    "loader = DirectoryLoader(database, glob=\"./*.pdf\", loader_cls=PyPDFLoader)\n",
    "\n",
    "documents = loader.load()\n",
    "documents\n"
   ]
  },
  {
   "cell_type": "markdown",
   "metadata": {},
   "source": [
    "##### Split the text into chunks"
   ]
  },
  {
   "cell_type": "code",
   "execution_count": 7,
   "metadata": {},
   "outputs": [
    {
     "data": {
      "text/plain": [
       "36"
      ]
     },
     "execution_count": 7,
     "metadata": {},
     "output_type": "execute_result"
    }
   ],
   "source": [
    "text_splitter = RecursiveCharacterTextSplitter(chunk_size=1000, chunk_overlap=300)\n",
    "docs = text_splitter.split_documents(documents)\n",
    "\n",
    "len(docs)"
   ]
  },
  {
   "cell_type": "markdown",
   "metadata": {},
   "source": [
    "#### Import the libraries to connect to Chroma database"
   ]
  },
  {
   "cell_type": "code",
   "execution_count": 8,
   "metadata": {},
   "outputs": [],
   "source": [
    "from langchain.vectorstores.chroma import Chroma\n",
    "from langchain.embeddings.sentence_transformer import SentenceTransformerEmbeddings"
   ]
  },
  {
   "cell_type": "code",
   "execution_count": 9,
   "metadata": {},
   "outputs": [],
   "source": [
    "embedding_function = SentenceTransformerEmbeddings(model_name=\"all-MiniLM-L6-v2\")\n"
   ]
  },
  {
   "cell_type": "markdown",
   "metadata": {},
   "source": [
    "##### Upload the text in chroma database"
   ]
  },
  {
   "cell_type": "code",
   "execution_count": 10,
   "metadata": {},
   "outputs": [
    {
     "name": "stdout",
     "output_type": "stream",
     "text": [
      "barack_obama\n"
     ]
    },
    {
     "data": {
      "text/plain": [
       "'barack_obama-database'"
      ]
     },
     "execution_count": 10,
     "metadata": {},
     "output_type": "execute_result"
    }
   ],
   "source": [
    "import re\n",
    "\n",
    "text = \"barack_obama_documents\"\n",
    "result = re.search(r'(?P<word>\\w+)_', text)\n",
    "\n",
    "if result:\n",
    "    extracted_word = result.group('word')\n",
    "    print(extracted_word)\n",
    "\n",
    "database_name = extracted_word+\"-database\"\n",
    "database_name"
   ]
  },
  {
   "cell_type": "code",
   "execution_count": 11,
   "metadata": {},
   "outputs": [],
   "source": [
    "db2 = Chroma.from_documents(docs, embedding_function, persist_directory=database_name)"
   ]
  },
  {
   "cell_type": "code",
   "execution_count": null,
   "metadata": {},
   "outputs": [],
   "source": []
  },
  {
   "cell_type": "code",
   "execution_count": null,
   "metadata": {},
   "outputs": [],
   "source": []
  },
  {
   "cell_type": "code",
   "execution_count": null,
   "metadata": {},
   "outputs": [],
   "source": []
  }
 ],
 "metadata": {
  "kernelspec": {
   "display_name": "Python 3",
   "language": "python",
   "name": "python3"
  },
  "language_info": {
   "codemirror_mode": {
    "name": "ipython",
    "version": 3
   },
   "file_extension": ".py",
   "mimetype": "text/x-python",
   "name": "python",
   "nbconvert_exporter": "python",
   "pygments_lexer": "ipython3",
   "version": "3.9.13"
  },
  "orig_nbformat": 4
 },
 "nbformat": 4,
 "nbformat_minor": 2
}
