{
 "cells": [
  {
   "cell_type": "markdown",
   "metadata": {},
   "source": [
    "## Upload personal data to database\n",
    "## ( the best version )"
   ]
  },
  {
   "cell_type": "markdown",
   "metadata": {},
   "source": [
    "#### Import the libraries to get the env variables"
   ]
  },
  {
   "cell_type": "code",
   "execution_count": 1,
   "metadata": {},
   "outputs": [],
   "source": [
    "import os\n",
    "from dotenv import load_dotenv"
   ]
  },
  {
   "cell_type": "code",
   "execution_count": 2,
   "metadata": {},
   "outputs": [],
   "source": [
    "load_dotenv()\n",
    "\n",
    "OPENAI_API_TYPE = \"azure\"\n",
    "OPENAI_API_VERSION = os.environ.get(\"OPENAI_API_VERSION\")\n",
    "OPENAI_API_KEY = os.environ.get(\"OPENAI_API_KEY\")\n",
    "OPENAI_API_BASE = os.environ.get(\"OPENAI_API_BASE\")\n",
    "OPENAI_API_VERSION = \"2023-03-15-preview\""
   ]
  },
  {
   "cell_type": "code",
   "execution_count": 3,
   "metadata": {},
   "outputs": [
    {
     "data": {
      "text/plain": [
       "'9ac347d13e834f288a2076ff9c7b418a'"
      ]
     },
     "execution_count": 3,
     "metadata": {},
     "output_type": "execute_result"
    }
   ],
   "source": [
    "OPENAI_API_KEY "
   ]
  },
  {
   "cell_type": "markdown",
   "metadata": {},
   "source": [
    "#### Set the name of the database"
   ]
  },
  {
   "cell_type": "code",
   "execution_count": 4,
   "metadata": {},
   "outputs": [],
   "source": [
    "database = \"./football_documents/\""
   ]
  },
  {
   "cell_type": "markdown",
   "metadata": {},
   "source": [
    "#### Import the libraries to get the text and split it in chunks"
   ]
  },
  {
   "cell_type": "code",
   "execution_count": 5,
   "metadata": {},
   "outputs": [],
   "source": [
    "from langchain.text_splitter import RecursiveCharacterTextSplitter\n",
    "from langchain.document_loaders import TextLoader, DirectoryLoader"
   ]
  },
  {
   "cell_type": "markdown",
   "metadata": {},
   "source": [
    "##### Get the text from the documents"
   ]
  },
  {
   "cell_type": "code",
   "execution_count": 6,
   "metadata": {},
   "outputs": [
    {
     "data": {
      "text/plain": [
       "[Document(page_content=\"Cristiano Ronaldo is undeniably one of the greatest footballers of all time, with a career that has spanned over two decades and has left an indelible mark on the sport. Born on February 5, 1985, in Funchal, Madeira, Portugal, Ronaldo's journey to stardom is a remarkable story of dedication, talent, and relentless ambition.\\n\\n**Early Life and Beginnings:**\\nRonaldo's love for football began at a young age. Growing up in a modest family, he honed his skills playing on the streets of Madeira. At the tender age of 12, he moved to mainland Portugal to join the Sporting CP youth academy. His talent was evident from the start, and it didn't take long for him to break into the first team. His performances in the Primeira Liga caught the attention of scouts from top European clubs.\\n\\n**Rise to Prominence:**\\nIn 2003, Ronaldo made a high-profile move to Manchester United for a then-record fee for a teenager. Under the guidance of Sir Alex Ferguson, he blossomed into a footballing sensation. His speed, dribbling, and incredible work ethic made him a fan favorite at Old Trafford. During his six-year stint with the club, Ronaldo won three Premier League titles and the UEFA Champions League, establishing himself as one of the world's top players.\\n\\n**Galactic Move to Real Madrid:**\\nIn 2009, Ronaldo made a sensational switch to Real Madrid for a then-world-record transfer fee. His time at the Spanish club was nothing short of legendary. Ronaldo's scoring prowess was on full display, as he consistently netted over 40 goals per season. He led Real Madrid to numerous La Liga titles and four UEFA Champions League titles, becoming the club's all-time leading scorer. His rivalry with Lionel Messi during this period set football fans alight, with both players pushing each other to new heights.\\n\\n**Return to Manchester United:**\\nIn 2021, Ronaldo made a highly anticipated return to Manchester United. His comeback was met with tremendous excitement from fans worldwide. Even at his age, Ronaldo's athleticism and goal-scoring ability remained intact. His presence provided a much-needed boost to the team, and he continued to add to his impressive goal tally.\\n\\n**International Success:**\\nOn the international stage, Ronaldo's contributions to the Portuguese national team have been invaluable. He's the all-time leading scorer for Portugal and has led them to victory in the UEFA European Championship in 2016 and the UEFA Nations League in 2019. His leadership and determination have made him an icon in his homeland.\\n\\n**Off the Pitch:**\\nBeyond his on-field exploits, Ronaldo is known for his philanthropic efforts and charismatic personality. He's involved in various charitable activities and has donated substantial amounts to causes such as children's hospitals and disaster relief efforts.\\n\\n**Legacy:**\\nCristiano Ronaldo's legacy in football is secure. His incredible work ethic, dedication to his craft, and ability to consistently perform at the highest level have earned him the admiration of fans and peers alike. He's won multiple Ballon d'Or awards, further solidifying his status as one of the greatest footballers in history.\\n\\nIn conclusion, Cristiano Ronaldo's impact on football transcends statistics and records. He's a symbol of what can be achieved through talent, hard work, and determination. His journey from the streets of Madeira to the pinnacle of football is a testament to his unwavering commitment to the sport. As he continues to defy age and expectations, fans eagerly await the next chapter in the remarkable story of Cristiano Ronaldo.\\n\", metadata={'source': 'football_documents\\\\cristiano.txt'}),\n",
       " Document(page_content='Lionel Messi, often simply referred to as \"Messi,\" is a name synonymous with football excellence. Born on June 24, 1987, in Rosario, Argentina, he is widely regarded as one of the greatest football players of all time. Messi\\'s journey to superstardom is not just a story of incredible talent, but also one of relentless determination and unwavering commitment to the beautiful game.\\n\\nFrom a young age, it was evident that Messi possessed a unique gift for football. His early years were spent playing for local club Newell\\'s Old Boys, where he showcased his exceptional dribbling skills and goal-scoring prowess. However, his path to greatness faced an unexpected obstacle when he was diagnosed with a growth hormone deficiency at the age of 11. This condition threatened to derail his dreams, but Messi\\'s family\\'s unwavering support and the determination he displayed were instrumental in overcoming this setback.\\n\\nIn 2000, Messi\\'s talents caught the attention of FC Barcelona, one of the most prestigious football clubs in the world. At just 13 years old, he made the life-changing move to Spain, leaving behind his family and his beloved Argentina. His transition to Barcelona\\'s famed La Masia youth academy marked the beginning of an illustrious career.\\n\\nMessi\\'s ascent in the football world was meteoric. He made his first-team debut for Barcelona in 2004 at the age of 17, and from that moment, he never looked back. His extraordinary dribbling skills, close ball control, and ability to score from virtually any position on the field left defenders and goalkeepers baffled. Messi\\'s partnership with other Barcelona stars like Xavi and Iniesta created one of the most dominant football teams in history.\\n\\nThroughout his time at Barcelona, Messi amassed numerous individual and team honors. He won numerous Ballon d\\'Or awards, establishing himself as the world\\'s best player. His ability to score goals at a staggering rate, his precise passing, and his vision on the field made him a complete footballer.\\n\\nIn 2021, Messi faced a significant turning point in his career when he left Barcelona due to financial constraints faced by the club. He joined Paris Saint-Germain (PSG), where he continued to display his incredible skills. This transfer marked a new chapter in his football journey, as he adapted to a new league and team.\\n\\nBeyond his club success, Messi has been a vital figure for the Argentine national team. He played a pivotal role in leading Argentina to victory in the 2021 Copa America, their first major international trophy in nearly three decades. This achievement was particularly special for Messi, as it silenced critics who had questioned his ability to win with the national team.\\n\\nMessi\\'s impact transcends the football pitch. He is known for his philanthropic efforts and has donated millions to various charitable causes. His humility, work ethic, and dedication to his craft serve as an inspiration to aspiring footballers worldwide.\\n\\nIn conclusion, Lionel Messi\\'s journey from a young boy with a dream to a global football icon is a testament to his unparalleled talent and unwavering determination. His story is one of triumph over adversity, and his legacy in the world of football will endure for generations to come. Whether wearing the Barcelona or PSG jersey or representing Argentina, Messi continues to mesmerize football fans worldwide with his extraordinary skills and passion for the beautiful game.', metadata={'source': 'football_documents\\\\messi.txt'}),\n",
       " Document(page_content=\"Neymar da Silva Santos JĂşnior, commonly known as Neymar, is a Brazilian football phenomenon who has left an indelible mark on the world of soccer. Born on February 5, 1992, in Mogi das Cruzes, SĂŁo Paulo, he emerged as a prodigious talent from a young age, and his journey to becoming one of the most recognizable and controversial figures in football is a compelling narrative.\\n\\nNeymar's footballing prowess was evident even in his early years. He joined the youth ranks of Santos FC, a Brazilian club renowned for nurturing talents, and quickly became a sensation. His dazzling dribbling skills, audacious flair, and clinical finishing caught the attention of scouts and fans alike. At the tender age of 17, he made his professional debut for Santos FC, and it was abundantly clear that a new superstar had arrived.\\n\\nOne of the defining moments of Neymar's career came in 2013 when he made a high-profile move to Barcelona, one of the most prestigious clubs in Europe. His partnership with Lionel Messi and Luis SuĂˇrez formed the legendary 'MSN' trio, which terrorized defenses across the continent. Neymar's time at Barcelona was marked by numerous accolades, including winning the UEFA Champions League, La Liga titles, and the FIFA Club World Cup.\\n\\nIn 2017, Neymar shocked the footballing world by transferring to Paris Saint-Germain (PSG) for a world-record fee. This move raised eyebrows and ignited debates about the astronomical sums involved in modern football transfers. Nonetheless, Neymar continued to excel on the field, helping PSG secure domestic titles and becoming one of the club's talismanic figures.\\n\\nNeymar's international career has also been a rollercoaster ride. He has been a key player for the Brazilian national team, with his performances in the 2013 FIFA Confederations Cup and the 2014 FIFA World Cup garnering widespread acclaim. However, his journey has not been without setbacks, notably the disappointment of Brazil's early exit in the 2018 World Cup.\\n\\nOff the field, Neymar's life has been a subject of intense media scrutiny. He has been in the headlines for various reasons, from endorsement deals with global brands to legal troubles and controversies. His flashy lifestyle and extravagant parties have polarized opinions, making him a lightning rod for both admiration and criticism.\\n\\nDespite the polarizing aspects of his personality and career, Neymar's talent remains undeniable. His ability to change the course of a game with his individual brilliance, combined with his creative playmaking skills, makes him a unique and captivating player to watch.\\n\\nIn conclusion, Neymar's journey from a young talent in Brazil to a global football icon has been a captivating saga filled with triumphs and tribulations. His influence extends far beyond the football pitch, transcending into the realms of pop culture and global stardom. Whether you see him as a maverick or a maestro, there's no denying that Neymar is a name that will continue to be etched in the annals of football history for years to come.\\n\\nrovide some insights into Neymar's performance during the 2013 FIFA Confederations Cup and how it contributed to his rise to stardom?\", metadata={'source': 'football_documents\\\\neymar.txt'})]"
      ]
     },
     "execution_count": 6,
     "metadata": {},
     "output_type": "execute_result"
    }
   ],
   "source": [
    "loader = DirectoryLoader(database, glob=\"./*.txt\", loader_cls=TextLoader)\n",
    "\n",
    "documents = loader.load()\n",
    "documents\n"
   ]
  },
  {
   "cell_type": "markdown",
   "metadata": {},
   "source": [
    "##### Split the text into chunks"
   ]
  },
  {
   "cell_type": "code",
   "execution_count": 7,
   "metadata": {},
   "outputs": [
    {
     "data": {
      "text/plain": [
       "[Document(page_content=\"Cristiano Ronaldo is undeniably one of the greatest footballers of all time, with a career that has spanned over two decades and has left an indelible mark on the sport. Born on February 5, 1985, in Funchal, Madeira, Portugal, Ronaldo's journey to stardom is a remarkable story of dedication, talent, and relentless ambition.\\n\\n**Early Life and Beginnings:**\\nRonaldo's love for football began at a young age. Growing up in a modest family, he honed his skills playing on the streets of Madeira. At the tender age of 12, he moved to mainland Portugal to join the Sporting CP youth academy. His talent was evident from the start, and it didn't take long for him to break into the first team. His performances in the Primeira Liga caught the attention of scouts from top European clubs.\", metadata={'source': 'football_documents\\\\cristiano.txt'}),\n",
       " Document(page_content=\"**Rise to Prominence:**\\nIn 2003, Ronaldo made a high-profile move to Manchester United for a then-record fee for a teenager. Under the guidance of Sir Alex Ferguson, he blossomed into a footballing sensation. His speed, dribbling, and incredible work ethic made him a fan favorite at Old Trafford. During his six-year stint with the club, Ronaldo won three Premier League titles and the UEFA Champions League, establishing himself as one of the world's top players.\", metadata={'source': 'football_documents\\\\cristiano.txt'}),\n",
       " Document(page_content=\"**Galactic Move to Real Madrid:**\\nIn 2009, Ronaldo made a sensational switch to Real Madrid for a then-world-record transfer fee. His time at the Spanish club was nothing short of legendary. Ronaldo's scoring prowess was on full display, as he consistently netted over 40 goals per season. He led Real Madrid to numerous La Liga titles and four UEFA Champions League titles, becoming the club's all-time leading scorer. His rivalry with Lionel Messi during this period set football fans alight, with both players pushing each other to new heights.\\n\\n**Return to Manchester United:**\\nIn 2021, Ronaldo made a highly anticipated return to Manchester United. His comeback was met with tremendous excitement from fans worldwide. Even at his age, Ronaldo's athleticism and goal-scoring ability remained intact. His presence provided a much-needed boost to the team, and he continued to add to his impressive goal tally.\", metadata={'source': 'football_documents\\\\cristiano.txt'}),\n",
       " Document(page_content=\"**International Success:**\\nOn the international stage, Ronaldo's contributions to the Portuguese national team have been invaluable. He's the all-time leading scorer for Portugal and has led them to victory in the UEFA European Championship in 2016 and the UEFA Nations League in 2019. His leadership and determination have made him an icon in his homeland.\\n\\n**Off the Pitch:**\\nBeyond his on-field exploits, Ronaldo is known for his philanthropic efforts and charismatic personality. He's involved in various charitable activities and has donated substantial amounts to causes such as children's hospitals and disaster relief efforts.\\n\\n**Legacy:**\\nCristiano Ronaldo's legacy in football is secure. His incredible work ethic, dedication to his craft, and ability to consistently perform at the highest level have earned him the admiration of fans and peers alike. He's won multiple Ballon d'Or awards, further solidifying his status as one of the greatest footballers in history.\", metadata={'source': 'football_documents\\\\cristiano.txt'}),\n",
       " Document(page_content=\"In conclusion, Cristiano Ronaldo's impact on football transcends statistics and records. He's a symbol of what can be achieved through talent, hard work, and determination. His journey from the streets of Madeira to the pinnacle of football is a testament to his unwavering commitment to the sport. As he continues to defy age and expectations, fans eagerly await the next chapter in the remarkable story of Cristiano Ronaldo.\", metadata={'source': 'football_documents\\\\cristiano.txt'}),\n",
       " Document(page_content='Lionel Messi, often simply referred to as \"Messi,\" is a name synonymous with football excellence. Born on June 24, 1987, in Rosario, Argentina, he is widely regarded as one of the greatest football players of all time. Messi\\'s journey to superstardom is not just a story of incredible talent, but also one of relentless determination and unwavering commitment to the beautiful game.\\n\\nFrom a young age, it was evident that Messi possessed a unique gift for football. His early years were spent playing for local club Newell\\'s Old Boys, where he showcased his exceptional dribbling skills and goal-scoring prowess. However, his path to greatness faced an unexpected obstacle when he was diagnosed with a growth hormone deficiency at the age of 11. This condition threatened to derail his dreams, but Messi\\'s family\\'s unwavering support and the determination he displayed were instrumental in overcoming this setback.', metadata={'source': 'football_documents\\\\messi.txt'}),\n",
       " Document(page_content=\"In 2000, Messi's talents caught the attention of FC Barcelona, one of the most prestigious football clubs in the world. At just 13 years old, he made the life-changing move to Spain, leaving behind his family and his beloved Argentina. His transition to Barcelona's famed La Masia youth academy marked the beginning of an illustrious career.\\n\\nMessi's ascent in the football world was meteoric. He made his first-team debut for Barcelona in 2004 at the age of 17, and from that moment, he never looked back. His extraordinary dribbling skills, close ball control, and ability to score from virtually any position on the field left defenders and goalkeepers baffled. Messi's partnership with other Barcelona stars like Xavi and Iniesta created one of the most dominant football teams in history.\", metadata={'source': 'football_documents\\\\messi.txt'}),\n",
       " Document(page_content=\"Throughout his time at Barcelona, Messi amassed numerous individual and team honors. He won numerous Ballon d'Or awards, establishing himself as the world's best player. His ability to score goals at a staggering rate, his precise passing, and his vision on the field made him a complete footballer.\\n\\nIn 2021, Messi faced a significant turning point in his career when he left Barcelona due to financial constraints faced by the club. He joined Paris Saint-Germain (PSG), where he continued to display his incredible skills. This transfer marked a new chapter in his football journey, as he adapted to a new league and team.\\n\\nBeyond his club success, Messi has been a vital figure for the Argentine national team. He played a pivotal role in leading Argentina to victory in the 2021 Copa America, their first major international trophy in nearly three decades. This achievement was particularly special for Messi, as it silenced critics who had questioned his ability to win with the national team.\", metadata={'source': 'football_documents\\\\messi.txt'}),\n",
       " Document(page_content=\"Messi's impact transcends the football pitch. He is known for his philanthropic efforts and has donated millions to various charitable causes. His humility, work ethic, and dedication to his craft serve as an inspiration to aspiring footballers worldwide.\\n\\nIn conclusion, Lionel Messi's journey from a young boy with a dream to a global football icon is a testament to his unparalleled talent and unwavering determination. His story is one of triumph over adversity, and his legacy in the world of football will endure for generations to come. Whether wearing the Barcelona or PSG jersey or representing Argentina, Messi continues to mesmerize football fans worldwide with his extraordinary skills and passion for the beautiful game.\", metadata={'source': 'football_documents\\\\messi.txt'}),\n",
       " Document(page_content=\"Neymar da Silva Santos JĂşnior, commonly known as Neymar, is a Brazilian football phenomenon who has left an indelible mark on the world of soccer. Born on February 5, 1992, in Mogi das Cruzes, SĂŁo Paulo, he emerged as a prodigious talent from a young age, and his journey to becoming one of the most recognizable and controversial figures in football is a compelling narrative.\\n\\nNeymar's footballing prowess was evident even in his early years. He joined the youth ranks of Santos FC, a Brazilian club renowned for nurturing talents, and quickly became a sensation. His dazzling dribbling skills, audacious flair, and clinical finishing caught the attention of scouts and fans alike. At the tender age of 17, he made his professional debut for Santos FC, and it was abundantly clear that a new superstar had arrived.\", metadata={'source': 'football_documents\\\\neymar.txt'}),\n",
       " Document(page_content=\"One of the defining moments of Neymar's career came in 2013 when he made a high-profile move to Barcelona, one of the most prestigious clubs in Europe. His partnership with Lionel Messi and Luis SuĂˇrez formed the legendary 'MSN' trio, which terrorized defenses across the continent. Neymar's time at Barcelona was marked by numerous accolades, including winning the UEFA Champions League, La Liga titles, and the FIFA Club World Cup.\\n\\nIn 2017, Neymar shocked the footballing world by transferring to Paris Saint-Germain (PSG) for a world-record fee. This move raised eyebrows and ignited debates about the astronomical sums involved in modern football transfers. Nonetheless, Neymar continued to excel on the field, helping PSG secure domestic titles and becoming one of the club's talismanic figures.\", metadata={'source': 'football_documents\\\\neymar.txt'}),\n",
       " Document(page_content=\"Neymar's international career has also been a rollercoaster ride. He has been a key player for the Brazilian national team, with his performances in the 2013 FIFA Confederations Cup and the 2014 FIFA World Cup garnering widespread acclaim. However, his journey has not been without setbacks, notably the disappointment of Brazil's early exit in the 2018 World Cup.\\n\\nOff the field, Neymar's life has been a subject of intense media scrutiny. He has been in the headlines for various reasons, from endorsement deals with global brands to legal troubles and controversies. His flashy lifestyle and extravagant parties have polarized opinions, making him a lightning rod for both admiration and criticism.\\n\\nDespite the polarizing aspects of his personality and career, Neymar's talent remains undeniable. His ability to change the course of a game with his individual brilliance, combined with his creative playmaking skills, makes him a unique and captivating player to watch.\", metadata={'source': 'football_documents\\\\neymar.txt'}),\n",
       " Document(page_content=\"In conclusion, Neymar's journey from a young talent in Brazil to a global football icon has been a captivating saga filled with triumphs and tribulations. His influence extends far beyond the football pitch, transcending into the realms of pop culture and global stardom. Whether you see him as a maverick or a maestro, there's no denying that Neymar is a name that will continue to be etched in the annals of football history for years to come.\\n\\nrovide some insights into Neymar's performance during the 2013 FIFA Confederations Cup and how it contributed to his rise to stardom?\", metadata={'source': 'football_documents\\\\neymar.txt'})]"
      ]
     },
     "execution_count": 7,
     "metadata": {},
     "output_type": "execute_result"
    }
   ],
   "source": [
    "text_splitter = RecursiveCharacterTextSplitter(chunk_size=1000, chunk_overlap=0)\n",
    "docs = text_splitter.split_documents(documents)\n",
    "\n",
    "docs"
   ]
  },
  {
   "cell_type": "markdown",
   "metadata": {},
   "source": [
    "#### Import the libraries to connect to Chroma database"
   ]
  },
  {
   "cell_type": "code",
   "execution_count": 8,
   "metadata": {},
   "outputs": [],
   "source": [
    "from langchain.vectorstores.chroma import Chroma\n",
    "from langchain.embeddings.sentence_transformer import SentenceTransformerEmbeddings"
   ]
  },
  {
   "cell_type": "code",
   "execution_count": 9,
   "metadata": {},
   "outputs": [],
   "source": [
    "embedding_function = SentenceTransformerEmbeddings(model_name=\"all-MiniLM-L6-v2\")\n"
   ]
  },
  {
   "cell_type": "markdown",
   "metadata": {},
   "source": [
    "##### Upload the text in chroma database"
   ]
  },
  {
   "cell_type": "code",
   "execution_count": 10,
   "metadata": {},
   "outputs": [
    {
     "name": "stdout",
     "output_type": "stream",
     "text": [
      "football\n"
     ]
    },
    {
     "data": {
      "text/plain": [
       "'football-database'"
      ]
     },
     "execution_count": 10,
     "metadata": {},
     "output_type": "execute_result"
    }
   ],
   "source": [
    "import re\n",
    "\n",
    "text = \"football_documents\"\n",
    "result = re.search(r'(?P<word>\\w+)_', text)\n",
    "\n",
    "if result:\n",
    "    extracted_word = result.group('word')\n",
    "    print(extracted_word)\n",
    "\n",
    "database_name = extracted_word+\"-database\"\n",
    "database_name"
   ]
  },
  {
   "cell_type": "code",
   "execution_count": 11,
   "metadata": {},
   "outputs": [],
   "source": [
    "db2 = Chroma.from_documents(docs, embedding_function, persist_directory=database_name)"
   ]
  },
  {
   "cell_type": "code",
   "execution_count": null,
   "metadata": {},
   "outputs": [],
   "source": []
  },
  {
   "cell_type": "code",
   "execution_count": null,
   "metadata": {},
   "outputs": [],
   "source": []
  },
  {
   "cell_type": "code",
   "execution_count": null,
   "metadata": {},
   "outputs": [],
   "source": []
  }
 ],
 "metadata": {
  "kernelspec": {
   "display_name": "Python 3",
   "language": "python",
   "name": "python3"
  },
  "language_info": {
   "codemirror_mode": {
    "name": "ipython",
    "version": 3
   },
   "file_extension": ".py",
   "mimetype": "text/x-python",
   "name": "python",
   "nbconvert_exporter": "python",
   "pygments_lexer": "ipython3",
   "version": "3.9.13"
  },
  "orig_nbformat": 4
 },
 "nbformat": 4,
 "nbformat_minor": 2
}
